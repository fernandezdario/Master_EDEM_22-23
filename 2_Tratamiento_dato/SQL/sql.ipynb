{
  "cells": [
    {
      "cell_type": "markdown",
      "metadata": {
        "id": "4Op78nmfolFE"
      },
      "source": [
        "# Ejemplos de ejercicios en SQL"
      ]
    },
    {
      "cell_type": "markdown",
      "metadata": {
        "id": "bpF5mYCZSmR8"
      },
      "source": [
        "Seleccionar únicamente los alumnos que sean de Portugal."
      ]
    },
    {
      "cell_type": "code",
      "execution_count": null,
      "metadata": {
        "id": "ubQ5W1ytHXiR",
        "vscode": {
          "languageId": "sql"
        }
      },
      "outputs": [],
      "source": [
        "SELECT NOM, COGNOM, DIRECCION, EMAIL FROM `Ejemplo_SQL.ALUMNOS` \n",
        "WHERE PAIS LIKE 'Portugal';"
      ]
    },
    {
      "cell_type": "markdown",
      "metadata": {
        "id": "VeytwsjdS4Ra"
      },
      "source": [
        "Seleccionar aquellos Masters que contengan una D. Sin embargo, debemos poner tanto %d% como D%, ya que si solo ponemos la D mayúscula solo nos cogerá aquellos Masters que contengan un D mayúscula."
      ]
    },
    {
      "cell_type": "code",
      "execution_count": null,
      "metadata": {
        "id": "UU3fbX7zHia5",
        "vscode": {
          "languageId": "sql"
        }
      },
      "outputs": [],
      "source": [
        "SELECT * FROM `Ejemplo_SQL.MASTERS`\n",
        "WHERE NOM LIKE '%d%' OR NOM LIKE 'D%';"
      ]
    },
    {
      "cell_type": "markdown",
      "metadata": {
        "id": "sTrb2O-RTh9K"
      },
      "source": [
        "Seleccionar aquellos alumnos que tengan un ID comprendido entre 37 y 45 y que se ordenen de forma ascendente."
      ]
    },
    {
      "cell_type": "code",
      "execution_count": null,
      "metadata": {
        "id": "-d0dEjK9HlvX",
        "vscode": {
          "languageId": "sql"
        }
      },
      "outputs": [],
      "source": [
        "SELECT * FROM `Ejemplo_SQL.ALUMNOS`\n",
        "WHERE ID BETWEEN 37 AND 45 ORDER BY ID ASC;"
      ]
    },
    {
      "cell_type": "markdown",
      "metadata": {
        "id": "s1zBkC4WTsYE"
      },
      "source": [
        "Insertar un nuevo alumno. En primer lugar, debemos establecer el orden en el que se irán incluyendo los diferentes valores que vayamos aportando, de tal manera que se sincronicen con el resto de valores de la tabla que tenemos."
      ]
    },
    {
      "cell_type": "code",
      "execution_count": null,
      "metadata": {
        "id": "NnMaIxn1HnZH",
        "vscode": {
          "languageId": "sql"
        }
      },
      "outputs": [],
      "source": [
        "INSERT INTO `Ejemplo_SQL.ALUMNOS`\n",
        "(ID, NOM, COGNOM,PAIS, DIRECCION, EMAIL)\n",
        "VALUES (100,'Darío','Fernández','España','Rincon de Ademuz', 'fernandezdario17@gmail.com');"
      ]
    },
    {
      "cell_type": "markdown",
      "metadata": {
        "id": "6Fe-acEpUAKt"
      },
      "source": [
        "En este caso, estamos actualizando el valor del email de aquellos alumnos que tengan un ID = 100. Como previamente le hemos dicho que yo tengo un valor de 100 en el ID que modifique mi email."
      ]
    },
    {
      "cell_type": "code",
      "execution_count": null,
      "metadata": {
        "id": "6M1jOtXpHp9h",
        "vscode": {
          "languageId": "sql"
        }
      },
      "outputs": [],
      "source": [
        "\n",
        "UPDATE `Ejemplo_SQL.ALUMNOS`\n",
        "SET EMAIL = 'dario.avatar@hotmail.com' WHERE ID = 100"
      ]
    },
    {
      "cell_type": "markdown",
      "metadata": {
        "id": "EIqoZKQ3UUhc"
      },
      "source": [
        "En este caso, actualizamos el valor de país del alumno Darío, este caso yo. Por tanto, si previamente el país que se mostraba para el alumno Darío era España, ahora aparecerá México."
      ]
    },
    {
      "cell_type": "code",
      "execution_count": null,
      "metadata": {
        "id": "oIY1kLkLHt49",
        "vscode": {
          "languageId": "sql"
        }
      },
      "outputs": [],
      "source": [
        "UPDATE `Ejemplo_SQL.ALUMNOS`\n",
        "SET PAIS = 'MEXICO' WHERE NOM = 'Darío';"
      ]
    },
    {
      "cell_type": "markdown",
      "metadata": {
        "id": "9Puv_3huUktY"
      },
      "source": [
        "En este caso, lo que queremos es que en la tabla de masters se inserte un nuevo máster llamado MDA y que tenga un ID de Máster que sea 777."
      ]
    },
    {
      "cell_type": "code",
      "execution_count": null,
      "metadata": {
        "id": "MCa5NnxeQcHZ",
        "vscode": {
          "languageId": "sql"
        }
      },
      "outputs": [],
      "source": [
        "INSERT INTO `Ejemplo_SQL.MASTERS`\n",
        "(ID, NOM)\n",
        "VALUES (777, 'MDA');"
      ]
    },
    {
      "cell_type": "markdown",
      "metadata": {
        "id": "WgWZOgmzUyAi"
      },
      "source": [
        "En este ejemplo lo que podemos observar es que en la tabla en la que se interrelacionan los másters y los alumnos se cree una nueva fila en la que el ID correspondiente al Alumno y el Máster sea 180 y además le indicamos los valores del alumno que previamente hemos definido. En este caso esta nueva fila con ID de 180, tenemos al Alumno que posee un ID de 100 y le indicamos que está estudiando el Máster que tiene un ID de 777, por lo tanto sabemos que es el Máster de Data."
      ]
    },
    {
      "cell_type": "code",
      "execution_count": null,
      "metadata": {
        "id": "BCGqYMYRQeaM",
        "vscode": {
          "languageId": "sql"
        }
      },
      "outputs": [],
      "source": [
        "INSERT INTO `Ejemplo_SQL.ALU_MASTERS`\n",
        "(ID, ALU_ID, MAS_ID)\n",
        "VALUES (180, 100, 777)"
      ]
    },
    {
      "cell_type": "markdown",
      "metadata": {
        "id": "OmkvXcUlVZh3"
      },
      "source": [
        "En este caso lo que queremos es que nos muestre todas las columnas de la tabla de Alumnos que tengan un ID de 777. Sin embargo, no nos mostrará nada, ya que el ID 777 era el del Máster de MDA."
      ]
    },
    {
      "cell_type": "code",
      "execution_count": null,
      "metadata": {
        "id": "nz9qrX_6Vz0E",
        "vscode": {
          "languageId": "sql"
        }
      },
      "outputs": [],
      "source": [
        "SELECT * FROM `Ejemplo_SQL.ALUMNOS`, `Ejemplo_SQL.ALU_MASTERS`, `Ejemplo_SQL.MASTERS`\n",
        "WHERE `Ejemplo_SQL.ALUMNOS`.ID = 777;"
      ]
    },
    {
      "cell_type": "markdown",
      "metadata": {
        "id": "CVzg6R8mWIYU"
      },
      "source": [
        "En este caso lo que queremos que nos muestre es básicamente aquellos alumnos que tengan un ID de 81."
      ]
    },
    {
      "cell_type": "code",
      "execution_count": null,
      "metadata": {
        "id": "e4bQu8SuWI0q",
        "vscode": {
          "languageId": "sql"
        }
      },
      "outputs": [],
      "source": [
        "SELECT * FROM `Ejemplo_SQL.ALUMNOS`, `Ejemplo_SQL.ALU_MASTERS`, `Ejemplo_SQL.MASTERS`\n",
        "WHERE `Ejemplo_SQL.ALUMNOS`.ID = 81\n",
        "AND `Ejemplo_SQL.ALUMNOS`.ID = `Ejemplo_SQL.ALU_MASTERS`.ALU_ID\n",
        "AND `Ejemplo_SQL.MASTERS`.ID = `Ejemplo_SQL.ALU_MASTERS`.ALU_ID;"
      ]
    },
    {
      "cell_type": "markdown",
      "metadata": {
        "id": "CkDMb1K7WJQd"
      },
      "source": [
        "Borrar aquellos alumnos que se llamen Juan."
      ]
    },
    {
      "cell_type": "code",
      "execution_count": null,
      "metadata": {
        "id": "-JPixmJ4WJo5",
        "vscode": {
          "languageId": "sql"
        }
      },
      "outputs": [],
      "source": [
        "DELETE FROM `Ejemplo_SQL.ALUMNOS`\n",
        "WHERE NOM = 'Juan';"
      ]
    },
    {
      "cell_type": "markdown",
      "metadata": {
        "id": "Cg_MqTh3WJ73"
      },
      "source": [
        "Borrar aquellos alumnos que no estén cursando ningún Máster.\n",
        "Aquí lo que hacemos básicamente es que buscando en la tabla de ALU_Masters mira quien de la tabla Alumnos no se encuentra en la de ALU_MASTERS y lo elimina de la tabla de Alumnos."
      ]
    },
    {
      "cell_type": "code",
      "execution_count": null,
      "metadata": {
        "id": "v6n4tYuYWKP8",
        "vscode": {
          "languageId": "sql"
        }
      },
      "outputs": [],
      "source": [
        "DELETE FROM `Ejemplo_SQL.ALUMNOS`\n",
        "WHERE ID NOT IN (SELECT ALU_ID FROM `Ejemplo_SQL.ALU_MASTERS`);"
      ]
    },
    {
      "cell_type": "markdown",
      "metadata": {
        "id": "PaPp-3WFWKjg"
      },
      "source": [
        "Eliminar aquelos Másters que no tengan alumnos. \n",
        "Aquí lo que le diremos es que el ID del Máster no se encuentre dentro de la tabla de ALU_MASTERS que lo elimine de la tabla de Másters."
      ]
    },
    {
      "cell_type": "code",
      "execution_count": null,
      "metadata": {
        "id": "-THxD7QMWLX5",
        "vscode": {
          "languageId": "sql"
        }
      },
      "outputs": [],
      "source": [
        "DELETE FROM `Ejemplo_SQL.MASTERS`\n",
        "WHERE ID NOT IN (SELECT MAS_ID FROM `Ejemplo_SQL.ALU_MASTERS`);"
      ]
    },
    {
      "cell_type": "markdown",
      "metadata": {
        "id": "lw-30BKVXgl_"
      },
      "source": [
        "Aquí tenemos que actualizar el email de los alumnos del máster de MDA a nulo.\n",
        "Los pasos a realizar son los siguientes:\n",
        "\n",
        "\n",
        "1.   En la primera linea le damos el comando de que actualice a nulo el email en la tabla de alumnos.\n",
        "2.   En la segunda y tercera linea le decimos que el ID del alumno que se corresponda al ALU_ID y que tenga un MAS_ID que corresponda al Máster de MDA que actualice el email a NULO.\n",
        "\n"
      ]
    },
    {
      "cell_type": "code",
      "execution_count": null,
      "metadata": {
        "id": "S61y0dkEXg5o",
        "vscode": {
          "languageId": "sql"
        }
      },
      "outputs": [],
      "source": [
        "UPDATE `Ejemplo_SQL.ALUMNOS` SET email = null\n",
        "WHERE ID IN (SELECT ALU_ID FROM `Ejemplo_SQL.ALU_MASTERS` \n",
        "WHERE MAS_ID IN (SELECT ID FROM `Ejemplo_SQL.MASTERS` WHERE Nom = 'MDA'))"
      ]
    },
    {
      "cell_type": "markdown",
      "metadata": {},
      "source": [
        "Crea la siguiente tabla en tu schema:\n",
        "ID: Clave primaria único\n",
        "Mes: No nulo\n",
        "Cantidad: No nulo\n",
        "Descripcion: 250 caracteres"
      ]
    },
    {
      "cell_type": "code",
      "execution_count": null,
      "metadata": {
        "vscode": {
          "languageId": "sql"
        }
      },
      "outputs": [],
      "source": [
        "CREATE TABLE Ejemplo_SQL.GASTOS(\n",
        "  User_id INT NOT NULL,\n",
        "  Mes STRING(15) NOT NULL,\n",
        "  Cantidad DECIMAL NOT NULL,\n",
        "  Descripcion string (250)\n",
        ");"
      ]
    },
    {
      "cell_type": "markdown",
      "metadata": {},
      "source": [
        "Borrar la tabla previamente creada:"
      ]
    },
    {
      "cell_type": "code",
      "execution_count": null,
      "metadata": {
        "vscode": {
          "languageId": "sql"
        }
      },
      "outputs": [],
      "source": [
        "DROP TABLE Ejemplo_SQL.GASTOS"
      ]
    },
    {
      "cell_type": "markdown",
      "metadata": {},
      "source": [
        "Ejemplo de las JOINS:"
      ]
    },
    {
      "cell_type": "code",
      "execution_count": null,
      "metadata": {
        "vscode": {
          "languageId": "sql"
        }
      },
      "outputs": [],
      "source": [
        "SELECT ALUMNO.NOMBRE, M.MASTER\n",
        "FROM ALUMNOS A\n",
        "JOIN ALU_MASTER\n",
        "ON A.ID = ALU_MASTER.ID\n",
        "JOIN MASTER M\n",
        "ON ALU_MASTER.ID = MASTER.ID"
      ]
    },
    {
      "cell_type": "markdown",
      "metadata": {},
      "source": [
        "Seleccionar Alumnos que estén cursando un Master, donde solo salga el nombre del alumno y el nombre del Máster:\n",
        "En este caso el Alias de la tabla Alumnos es A, mientras que el alias de la tabla ALU_Máster es B y Másters es M."
      ]
    },
    {
      "cell_type": "code",
      "execution_count": null,
      "metadata": {
        "vscode": {
          "languageId": "sql"
        }
      },
      "outputs": [],
      "source": [
        "SELECT A.NOM, M.Nom \n",
        "FROM `Ejemplo_SQL.ALUMNOS` A\n",
        "INNER JOIN `Ejemplo_SQL.ALU_MASTERS` B \n",
        "  ON A.ID = B.ID\n",
        "INNER JOIN `Ejemplo_SQL.MASTERS` M\n",
        "  ON B.ID = M.ID;"
      ]
    },
    {
      "cell_type": "markdown",
      "metadata": {},
      "source": [
        "SELECT COUNT(*): Para que nos devuelvan cuantas filas hay\n",
        "SELECT SUM(columna_elegida): Te permite sumar cantidades\n",
        "SELECT AVERAGE(columna_elegida): Media\n",
        "SELECT MIN(columna_elegida): Mínimo de la columna de una tabla\n",
        "SELECT MAX(columna_elegida): Máximo de la columna de una tabla"
      ]
    },
    {
      "cell_type": "markdown",
      "metadata": {},
      "source": [
        "Si hacemos lo siguiente podemos hacer que nos saque solamente un numero limitado de alumnos:"
      ]
    },
    {
      "cell_type": "code",
      "execution_count": null,
      "metadata": {
        "vscode": {
          "languageId": "sql"
        }
      },
      "outputs": [],
      "source": [
        "SELECT * FROM ALUMNOS\n",
        "LIMIT 100;"
      ]
    },
    {
      "cell_type": "markdown",
      "metadata": {},
      "source": []
    },
    {
      "cell_type": "code",
      "execution_count": null,
      "metadata": {
        "vscode": {
          "languageId": "sql"
        }
      },
      "outputs": [],
      "source": []
    },
    {
      "cell_type": "markdown",
      "metadata": {},
      "source": []
    },
    {
      "cell_type": "code",
      "execution_count": null,
      "metadata": {
        "vscode": {
          "languageId": "sql"
        }
      },
      "outputs": [],
      "source": []
    },
    {
      "cell_type": "markdown",
      "metadata": {},
      "source": []
    },
    {
      "cell_type": "code",
      "execution_count": null,
      "metadata": {
        "vscode": {
          "languageId": "sql"
        }
      },
      "outputs": [],
      "source": []
    }
  ],
  "metadata": {
    "colab": {
      "provenance": []
    },
    "kernelspec": {
      "display_name": "Python 3.9.12 ('base')",
      "language": "python",
      "name": "python3"
    },
    "language_info": {
      "name": "python",
      "version": "3.9.12"
    },
    "vscode": {
      "interpreter": {
        "hash": "1e0c7b01d1ee234480fbb8f2f1344476b23de1c8cd4974b908bf5055148036ec"
      }
    }
  },
  "nbformat": 4,
  "nbformat_minor": 0
}
