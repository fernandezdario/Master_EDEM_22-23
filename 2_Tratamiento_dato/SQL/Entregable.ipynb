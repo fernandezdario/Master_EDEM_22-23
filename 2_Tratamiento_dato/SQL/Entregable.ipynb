{
 "cells": [
  {
   "cell_type": "markdown",
   "metadata": {},
   "source": [
    "1.- (200) Proporciona una SQL que muestre los siguientes datos:\n",
    "- Nombre Actor\n",
    "- Apellido Actor"
   ]
  },
  {
   "cell_type": "code",
   "execution_count": null,
   "metadata": {
    "vscode": {
     "languageId": "sql"
    }
   },
   "outputs": [],
   "source": [
    "select count(*) from(\n",
    "select first_name, last_name from actor) as salsa;"
   ]
  },
  {
   "cell_type": "markdown",
   "metadata": {},
   "source": [
    "2.- (5462) Proporciona una SQL que muestre los siguientes datos:\n",
    "- Nombre y apellido Actor,\n",
    "- Titulo de la Película\n",
    "\n",
    "Le ponemos as mambo porque hay darle un alias para que funcione el count."
   ]
  },
  {
   "cell_type": "code",
   "execution_count": null,
   "metadata": {
    "vscode": {
     "languageId": "sql"
    }
   },
   "outputs": [],
   "source": [
    "select count(*) from(\n",
    "select first_name, last_name, title\n",
    "from actor A\n",
    "inner join film_actor B\n",
    "on A.actor_ID = B.actor_ID\n",
    "inner join film C\n",
    "on B.film_ID = C.film_ID) as mambo;"
   ]
  },
  {
   "cell_type": "markdown",
   "metadata": {},
   "source": [
    "3.-(199) Proporciona una SQL que muestre los siguientes datos:\n",
    "- Nombre y apellido Actor\n",
    "- Número de películas\n",
    "- Ordenar de mayor a menor"
   ]
  },
  {
   "cell_type": "code",
   "execution_count": null,
   "metadata": {
    "vscode": {
     "languageId": "sql"
    }
   },
   "outputs": [],
   "source": [
    "select count(*) from(\n",
    "select A.first_name, A.last_name, count(C.title)\n",
    "from actor A\n",
    "join film_actor B\n",
    "on A.actor_id = B.actor_id\n",
    "join film C\n",
    "on B.film_id = C.film_id\n",
    "group by A.first_name, A.last_name\n",
    "order by count (C.title) desc) as mambo2;"
   ]
  },
  {
   "cell_type": "markdown",
   "metadata": {},
   "source": [
    "4.- (958) Proporciona una SQL que muestre los siguientes datos:\n",
    "- Película\n",
    "- Numero de veces alquilada(orden de mayor a menor)"
   ]
  },
  {
   "cell_type": "code",
   "execution_count": null,
   "metadata": {
    "vscode": {
     "languageId": "sql"
    }
   },
   "outputs": [],
   "source": [
    "select count(*) from(\n",
    "select F.title, count(R.rental_id)\n",
    "from film F\n",
    "join inventory I\n",
    "on F.film_id = I.film_id\n",
    "join rental R\n",
    "on I.inventory_id = R.inventory_id\n",
    "group by F.title\n",
    "order by count(R.rental_id) desc) as mambo3;"
   ]
  },
  {
   "cell_type": "markdown",
   "metadata": {},
   "source": [
    "5.- (958) Proporciona una SQL que muestre los siguientes datos:\n",
    "- Película\n",
    "- Dinero recaudado por película (ordenado)"
   ]
  },
  {
   "cell_type": "code",
   "execution_count": null,
   "metadata": {
    "vscode": {
     "languageId": "sql"
    }
   },
   "outputs": [],
   "source": [
    "select count(*) from(\n",
    "select F.title, sum(P.amount)\n",
    "from film F\n",
    "join inventory I\n",
    "on F.film_id = I.film_id\n",
    "join rental R\n",
    "on I.inventory_id = R.inventory_id\n",
    "join payment P\n",
    "on R.rental_id = P.rental_id\n",
    "group by F.title\n",
    "order by sum(P.amount) desc) as mambo4;"
   ]
  },
  {
   "cell_type": "markdown",
   "metadata": {},
   "source": [
    "6.- (1)Proporciona una SQL que muestre los siguientes datos:\n",
    "- Nombre y apellido del mejor cliente (mayor gasto)"
   ]
  },
  {
   "cell_type": "code",
   "execution_count": null,
   "metadata": {
    "vscode": {
     "languageId": "sql"
    }
   },
   "outputs": [],
   "source": [
    "select count(*) from (\n",
    "select C.first_name, C.last_name, sum(P.amount)\n",
    "from customer C\n",
    "join payment P\n",
    "on C.customer_id = P.customer_id\n",
    "group by C.first_name, C.last_name\n",
    "order by sum(P.amount) desc\n",
    "limit 1) as mambo5;"
   ]
  },
  {
   "cell_type": "markdown",
   "metadata": {},
   "source": [
    "7.-(1) Proporciona una SQL que muestre los siguientes datos:\n",
    "- Nombre y apellido del mejor cliente (mayor num de alquileres)"
   ]
  },
  {
   "cell_type": "code",
   "execution_count": null,
   "metadata": {
    "vscode": {
     "languageId": "sql"
    }
   },
   "outputs": [],
   "source": [
    "select count(*) from (\n",
    "select C.first_name, C.last_name, count(R.rental_id)\n",
    "from customer C\n",
    "join rental R\n",
    "on C.customer_id = R.customer_id\n",
    "group by C.first_name, C.last_name\n",
    "order by count(R.rental_id) desc\n",
    "limit 1) as mambo6;"
   ]
  }
 ],
 "metadata": {
  "kernelspec": {
   "display_name": "Python 3.9.12 ('base')",
   "language": "python",
   "name": "python3"
  },
  "language_info": {
   "name": "python",
   "version": "3.9.12"
  },
  "orig_nbformat": 4,
  "vscode": {
   "interpreter": {
    "hash": "1e0c7b01d1ee234480fbb8f2f1344476b23de1c8cd4974b908bf5055148036ec"
   }
  }
 },
 "nbformat": 4,
 "nbformat_minor": 2
}
