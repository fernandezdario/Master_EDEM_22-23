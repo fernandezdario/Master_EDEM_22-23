{
 "cells": [
  {
   "cell_type": "markdown",
   "metadata": {},
   "source": [
    "DLT\n",
    "- Repositorio de datos\n",
    "- Descentralizado\n",
    "- Seguro por el uso de la criptografia\n",
    "- Transparente porque todos los datos son publicos\n",
    "- Inmutable\n",
    "- Autónomo"
   ]
  },
  {
   "cell_type": "markdown",
   "metadata": {},
   "source": [
    "Que no es DLT?\n",
    "- Big Data\n",
    "- Bitcoin, si que es DLT, pero no solo es eso\n",
    "- Tiempo real\n",
    "- Madura\n",
    "- Bases de datos relacionales\n",
    "- Un producto"
   ]
  },
  {
   "cell_type": "markdown",
   "metadata": {},
   "source": [
    "Diferencia entre DLT y Blockchain\n",
    "Pues que la blockchain es DLT, pero DLT no es blockchain exclusivamente."
   ]
  },
  {
   "cell_type": "markdown",
   "metadata": {},
   "source": [
    "CBDC\n",
    "- Reemplaza al cash\n",
    "- El mismo valor\n",
    "- DLT\n",
    "- Reduccion de costes\n",
    "- Reduce el fraude\n",
    "- Trazabilidad"
   ]
  },
  {
   "cell_type": "markdown",
   "metadata": {},
   "source": [
    "Ethereum\n",
    "Por cada programa nuevo que se añade en la red de Ethereum, se crea un nuevo nodo y este nodod se retransmite la red"
   ]
  },
  {
   "cell_type": "markdown",
   "metadata": {},
   "source": [
    "Gas: coste del precio de computación que consumes por un transacción."
   ]
  }
 ],
 "metadata": {
  "language_info": {
   "name": "python"
  },
  "orig_nbformat": 4
 },
 "nbformat": 4,
 "nbformat_minor": 2
}
