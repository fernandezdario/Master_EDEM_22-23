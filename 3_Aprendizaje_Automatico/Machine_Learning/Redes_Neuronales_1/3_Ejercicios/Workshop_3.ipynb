{
  "nbformat": 4,
  "nbformat_minor": 0,
  "metadata": {
    "colab": {
      "provenance": [],
      "gpuType": "T4"
    },
    "kernelspec": {
      "name": "python3",
      "display_name": "Python 3"
    },
    "language_info": {
      "name": "python"
    },
    "accelerator": "GPU",
    "gpuClass": "standard"
  },
  "cells": [
    {
      "cell_type": "markdown",
      "source": [
        "# Workshop 1: House Pricing Regression\n",
        "In this workshop you will need to train a regression neural network to estimate the pricing of houses of California. The main blocks of the workshop are:\n",
        "\n",
        "- Get the data from PyTorch repository and visualize it.\n",
        "- Pre-process the data.\n",
        "- Design the network.\n",
        "- Train the network.\n",
        "- Evaluate the model.\n",
        "\n",
        "[Info of the data](https://www.kaggle.com/datasets/camnugent/california-housing-prices))"
      ],
      "metadata": {
        "id": "82KWdqfX9S9T"
      }
    },
    {
      "cell_type": "code",
      "source": [
        "!pip install torchmetrics"
      ],
      "metadata": {
        "id": "TPFtUc3Tuff5"
      },
      "execution_count": null,
      "outputs": []
    },
    {
      "cell_type": "code",
      "source": [
        "import pandas as pd\n",
        "from sklearn.preprocessing import StandardScaler\n",
        "from matplotlib import pyplot as plt\n",
        "import numpy as np\n",
        "\n",
        "import torch\n",
        "from torch.utils.data import Dataset, DataLoader\n",
        "import torch.nn as nn\n",
        "import torch.optim as optim\n",
        "\n",
        "from torchmetrics import MeanSquaredLogError\n",
        "\n",
        "torch.manual_seed(12345)"
      ],
      "metadata": {
        "id": "Kw8slVjX8s9g"
      },
      "execution_count": null,
      "outputs": []
    },
    {
      "cell_type": "markdown",
      "source": [
        "# 1. Get the data (Already in Colab)"
      ],
      "metadata": {
        "id": "7C8TPghNGj3j"
      }
    },
    {
      "cell_type": "code",
      "source": [
        "TRAIN_DATA_PATH = '/content/sample_data/california_housing_train.csv'\n",
        "TEST_DATA_PATH = '/content/sample_data/california_housing_test.csv'\n",
        "TARGET_NAME = 'median_house_value'"
      ],
      "metadata": {
        "id": "U9v_zyzF8ykJ"
      },
      "execution_count": null,
      "outputs": []
    },
    {
      "cell_type": "code",
      "execution_count": null,
      "metadata": {
        "id": "Dz1x__Jh8TZm"
      },
      "outputs": [],
      "source": [
        "train_data = pd.read_csv(TRAIN_DATA_PATH)\n",
        "test_data = pd.read_csv(TEST_DATA_PATH)"
      ]
    },
    {
      "cell_type": "code",
      "source": [
        "train_data.head()"
      ],
      "metadata": {
        "id": "kgV8DZEi80H3"
      },
      "execution_count": null,
      "outputs": []
    },
    {
      "cell_type": "code",
      "source": [
        "train_data.shape, test_data.shape"
      ],
      "metadata": {
        "id": "JBgs_AfD-625"
      },
      "execution_count": null,
      "outputs": []
    },
    {
      "cell_type": "code",
      "source": [
        "x_train, y_train = train_data.drop(TARGET_NAME, axis=1), train_data[TARGET_NAME]\n",
        "x_test, y_test = test_data.drop(TARGET_NAME, axis=1), test_data[TARGET_NAME]"
      ],
      "metadata": {
        "id": "3DSqRAO-8-SU"
      },
      "execution_count": null,
      "outputs": []
    },
    {
      "cell_type": "code",
      "source": [
        "x_train.shape, y_train.shape, x_test.shape, y_test.shape"
      ],
      "metadata": {
        "id": "Z3cAOOZa__e2"
      },
      "execution_count": null,
      "outputs": []
    },
    {
      "cell_type": "markdown",
      "source": [
        "# 2. Pre-process the data."
      ],
      "metadata": {
        "id": "adS5-AdeGv2H"
      }
    },
    {
      "cell_type": "code",
      "source": [
        "standard_scaler = StandardScaler()\n",
        "x_train_scaled = pd.DataFrame(\n",
        "    standard_scaler.fit_transform(x_train),\n",
        "    columns=x_train.columns\n",
        ")\n",
        "x_test_scaled = pd.DataFrame(\n",
        "    standard_scaler.transform(x_test),\n",
        "    columns = x_test.columns\n",
        ")"
      ],
      "metadata": {
        "id": "mGRb18gf9GJT"
      },
      "execution_count": null,
      "outputs": []
    },
    {
      "cell_type": "code",
      "source": [
        "x_train_scaled.head()"
      ],
      "metadata": {
        "id": "AD78c1XS9_GR"
      },
      "execution_count": null,
      "outputs": []
    },
    {
      "cell_type": "code",
      "source": [
        "# Create a PyTorch dataset\n",
        "class HousingDataset(Dataset):\n",
        "    def __init__(self, X, y):\n",
        "        self.X = torch.from_numpy(X.to_numpy()).float()\n",
        "        self.y = torch.from_numpy(y.to_numpy()).float()\n",
        "    \n",
        "    def __len__(self):\n",
        "        return len(self.X)\n",
        "    \n",
        "    def __getitem__(self, idx):\n",
        "        return self.X[idx], self.y[idx]"
      ],
      "metadata": {
        "id": "B44jic68dBIg"
      },
      "execution_count": null,
      "outputs": []
    },
    {
      "cell_type": "code",
      "source": [
        "train_set = HousingDataset(x_train_scaled[:15000], y_train[:15000])\n",
        "valid_set = HousingDataset(x_train_scaled[15000:], y_train[15000:])\n",
        "test_set = HousingDataset(x_test_scaled, y_test)\n",
        "len(train_set), len(valid_set), len(test_set)"
      ],
      "metadata": {
        "id": "IdElHmTAdRNp"
      },
      "execution_count": null,
      "outputs": []
    },
    {
      "cell_type": "code",
      "source": [
        "train_set[0]"
      ],
      "metadata": {
        "id": "tOrE2WnPdRR7"
      },
      "execution_count": null,
      "outputs": []
    },
    {
      "cell_type": "code",
      "source": [
        "train_loader = DataLoader(train_set, batch_size=64, shuffle=True)\n",
        "valid_loader = DataLoader(valid_set, batch_size=1, shuffle=False)\n",
        "test_loader = DataLoader(test_set, batch_size=1, shuffle=False)"
      ],
      "metadata": {
        "id": "_eGGzan4eQm6"
      },
      "execution_count": null,
      "outputs": []
    },
    {
      "cell_type": "code",
      "source": [
        "len(train_loader)"
      ],
      "metadata": {
        "id": "j0ShiAsZeb6C"
      },
      "execution_count": null,
      "outputs": []
    },
    {
      "cell_type": "code",
      "source": [
        "64*235"
      ],
      "metadata": {
        "id": "pardCD3peh04"
      },
      "execution_count": null,
      "outputs": []
    },
    {
      "cell_type": "code",
      "source": [
        "next(iter(train_loader))"
      ],
      "metadata": {
        "id": "T7YhcE83em5a"
      },
      "execution_count": null,
      "outputs": []
    },
    {
      "cell_type": "markdown",
      "source": [
        "# 3. Design the network."
      ],
      "metadata": {
        "id": "UZqu8f2LG1-U"
      }
    },
    {
      "cell_type": "code",
      "source": [
        "class Net(nn.Module):\n",
        "    def __init__(self):\n",
        "        super(Net, self).__init__()\n",
        "        self.fc1 = nn.Linear(8, 32)\n",
        "        self.fc2 = nn.Linear(32, 64)\n",
        "        self.fc3 = nn.Linear(64, 32)\n",
        "        self.fc4 = nn.Linear(32, 1)\n",
        "\n",
        "    def forward(self, x):\n",
        "        x = torch.relu(self.fc1(x))\n",
        "        x = torch.relu(self.fc2(x))\n",
        "        x = torch.relu(self.fc3(x))\n",
        "        x = self.fc4(x)\n",
        "        return x"
      ],
      "metadata": {
        "id": "MmTHCxeI-FCN"
      },
      "execution_count": null,
      "outputs": []
    },
    {
      "cell_type": "code",
      "source": [
        "net = Net()\n",
        "optimizer = optim.Adam(net.parameters(), lr=0.01)\n",
        "criterion = nn.MSELoss()"
      ],
      "metadata": {
        "id": "6wn3uXKCCIqb"
      },
      "execution_count": null,
      "outputs": []
    },
    {
      "cell_type": "markdown",
      "source": [
        "# 4. Train the network."
      ],
      "metadata": {
        "id": "jl2s24v5HEVB"
      }
    },
    {
      "cell_type": "code",
      "source": [
        "def train(epochs=10):\n",
        "  train_history = []\n",
        "  valid_history = []\n",
        "  for epoch in range(epochs):\n",
        "      running_loss = 0.0\n",
        "      for i, data in enumerate(train_loader):\n",
        "          inputs, labels = data\n",
        "          optimizer.zero_grad()\n",
        "          outputs = net(inputs)\n",
        "          loss = criterion(outputs[:, 0], labels)\n",
        "          loss.backward()\n",
        "          optimizer.step()\n",
        "          running_loss += loss.item()\n",
        "      train_history.append(running_loss / len(train_loader))\n",
        "      \n",
        "      with torch.no_grad():\n",
        "        running_loss = 0\n",
        "        for i, data in enumerate(valid_loader):\n",
        "          inputs, labels = data\n",
        "          outputs = net(inputs)\n",
        "          loss = criterion(outputs[:, 0], labels)\n",
        "          running_loss += loss.item()\n",
        "        valid_history.append(running_loss / len(valid_loader))\n",
        "\n",
        "      print('[%d] loss: %.3f, valid_loss: %.3f' % (epoch + 1, train_history[-1], valid_history[-1]))\n",
        "\n",
        "  plt.plot(train_history)\n",
        "  plt.plot(valid_history)\n",
        "  plt.xlabel(\"Epochs\")\n",
        "  plt.ylabel(\"MSE\")"
      ],
      "metadata": {
        "id": "VvAFSdO--mbs"
      },
      "execution_count": null,
      "outputs": []
    },
    {
      "cell_type": "code",
      "source": [
        "train()"
      ],
      "metadata": {
        "id": "IG2GQ12chnC7"
      },
      "execution_count": null,
      "outputs": []
    },
    {
      "cell_type": "code",
      "source": [
        "net = Net()\n",
        "optimizer = optim.Adam(net.parameters(), lr=0.01)\n",
        "criterion = MeanSquaredLogError()\n",
        "train()"
      ],
      "metadata": {
        "id": "5C3xI1hRuqZs"
      },
      "execution_count": null,
      "outputs": []
    },
    {
      "cell_type": "markdown",
      "source": [
        "# Exercise 1: Re-train the model to improve its performance and evaluate it on the test set"
      ],
      "metadata": {
        "id": "QfOWVeIVIFpn"
      }
    },
    {
      "cell_type": "code",
      "source": [
        "# Train the model\n"
      ],
      "metadata": {
        "id": "6E2evm_HDNzv"
      },
      "execution_count": null,
      "outputs": []
    },
    {
      "cell_type": "code",
      "source": [
        "# Predict on the test set\n"
      ],
      "metadata": {
        "id": "P-L3rgSEIQqr"
      },
      "execution_count": null,
      "outputs": []
    },
    {
      "cell_type": "code",
      "source": [
        "# Compare the results with the ground truth\n"
      ],
      "metadata": {
        "id": "qg-Fk07fISiM"
      },
      "execution_count": null,
      "outputs": []
    }
  ]
}