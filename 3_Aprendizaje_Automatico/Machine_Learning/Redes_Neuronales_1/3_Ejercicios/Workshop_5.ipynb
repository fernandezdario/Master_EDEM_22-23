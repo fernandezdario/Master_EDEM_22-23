{
  "nbformat": 4,
  "nbformat_minor": 0,
  "metadata": {
    "colab": {
      "provenance": [],
      "gpuType": "T4"
    },
    "kernelspec": {
      "name": "python3",
      "display_name": "Python 3"
    },
    "language_info": {
      "name": "python"
    },
    "accelerator": "GPU",
    "gpuClass": "standard"
  },
  "cells": [
    {
      "cell_type": "markdown",
      "source": [
        "# Workshop 5: Airline Passenger Predictions with RNN (Felix code in PyTorch)"
      ],
      "metadata": {
        "id": "jk7ryJZ5WbJo"
      }
    },
    {
      "cell_type": "code",
      "source": [
        "import torch\n",
        "import torch.nn as nn\n",
        "import torch.optim as optim\n",
        "import numpy as np\n",
        "import pandas as pd\n",
        "from sklearn.preprocessing import MinMaxScaler\n",
        "from sklearn.metrics import mean_squared_error\n",
        "import math\n",
        "import matplotlib.pyplot as plt"
      ],
      "metadata": {
        "id": "8WyWelPwYcjJ"
      },
      "execution_count": null,
      "outputs": []
    },
    {
      "cell_type": "code",
      "source": [
        "!wget https://raw.githubusercontent.com/jbrownlee/Datasets/master/airline-passengers.csv"
      ],
      "metadata": {
        "id": "3NDuBgcBYc5f"
      },
      "execution_count": null,
      "outputs": []
    },
    {
      "cell_type": "code",
      "source": [
        "# Load and plot the dataset\n",
        "dataset_raw = pd.read_csv('airline-passengers.csv', usecols=[1], engine='python').values\n",
        "plt.plot(dataset_raw)\n",
        "plt.show()"
      ],
      "metadata": {
        "id": "Qg1o_7OSYlJ5"
      },
      "execution_count": null,
      "outputs": []
    },
    {
      "cell_type": "code",
      "source": [
        "# Create dataset function\n",
        "def create_dataset(dataset, look_back_memory=1):\n",
        "    dataX, dataY = [], []\n",
        "    for i in range(len(dataset)-look_back_memory-1):\n",
        "        dataX.append(dataset[i:i+look_back_memory, 0])\n",
        "        dataY.append(dataset[i+look_back_memory, 0])\n",
        "    return np.array(dataX), np.array(dataY)"
      ],
      "metadata": {
        "id": "0dbKe2OrYoXk"
      },
      "execution_count": null,
      "outputs": []
    },
    {
      "cell_type": "code",
      "source": [
        "# Preprocess the dataset\n",
        "scaler = MinMaxScaler(feature_range=(0, 1))\n",
        "dataset = scaler.fit_transform(dataset_raw.astype('float32'))\n",
        "dataset.min(), dataset.max()"
      ],
      "metadata": {
        "id": "P-Y1mtRfYr8I"
      },
      "execution_count": null,
      "outputs": []
    },
    {
      "cell_type": "code",
      "source": [
        "# Split the dataset into train and test sets\n",
        "train_size = int(len(dataset) * 0.67)\n",
        "test_size = len(dataset) - train_size\n",
        "train, test = dataset[0:train_size], dataset[train_size:len(dataset)]\n",
        "train.shape, test.shape"
      ],
      "metadata": {
        "id": "ziMS9TLtY0ap"
      },
      "execution_count": null,
      "outputs": []
    },
    {
      "cell_type": "code",
      "source": [
        "# Create input and output sequences for training and testing\n",
        "look_back_memory = 1\n",
        "variables = 1\n",
        "trainX, trainY = create_dataset(train, look_back_memory)\n",
        "testX, testY = create_dataset(test, look_back_memory)\n",
        "trainX.shape, trainY.shape, testX.shape, testY.shape"
      ],
      "metadata": {
        "id": "N0YH4Tr8Y45l"
      },
      "execution_count": null,
      "outputs": []
    },
    {
      "cell_type": "code",
      "source": [
        "# Reshape the input sequences for PyTorch\n",
        "trainX = torch.from_numpy(trainX).unsqueeze(2).float()\n",
        "trainY = torch.from_numpy(trainY).unsqueeze(1).float()\n",
        "testX = torch.from_numpy(testX).unsqueeze(2).float()\n",
        "testY = torch.from_numpy(testY).unsqueeze(1).float()\n",
        "trainX.shape, trainY.shape, testX.shape, testY.shape"
      ],
      "metadata": {
        "id": "mnDpGgIEY7Tt"
      },
      "execution_count": null,
      "outputs": []
    },
    {
      "cell_type": "code",
      "source": [
        "class SimpleRNN(nn.Module):\n",
        "    def __init__(self, input_size, hidden_size, output_size):\n",
        "        super(SimpleRNN, self).__init__()\n",
        "        self.hidden_size = hidden_size\n",
        "        self.rnn = nn.RNN(input_size, hidden_size, batch_first=True)\n",
        "        self.fc = nn.Linear(hidden_size, output_size)\n",
        "\n",
        "    def forward(self, x):\n",
        "        out, _ = self.rnn(x)\n",
        "        out = self.fc(out[:, -1, :])\n",
        "        return out"
      ],
      "metadata": {
        "id": "FTgT5vdqZX2M"
      },
      "execution_count": null,
      "outputs": []
    },
    {
      "cell_type": "code",
      "source": [
        "# Set random seed for reproducibility\n",
        "torch.manual_seed(1234)"
      ],
      "metadata": {
        "id": "NwFOVN-IZ-wm"
      },
      "execution_count": null,
      "outputs": []
    },
    {
      "cell_type": "code",
      "source": [
        "# Create and train the model\n",
        "model = SimpleRNN(variables, 10, variables)\n",
        "criterion = nn.MSELoss()\n",
        "optimizer = optim.Adam(model.parameters(), lr=0.01)"
      ],
      "metadata": {
        "id": "5KT-qCkBaC8G"
      },
      "execution_count": null,
      "outputs": []
    },
    {
      "cell_type": "code",
      "source": [
        "losses_train = []\n",
        "losses_test = []\n",
        "for epoch in range(100):\n",
        "    optimizer.zero_grad()\n",
        "    output = model(trainX)\n",
        "    loss = criterion(output, trainY)\n",
        "    loss.backward()\n",
        "    optimizer.step()\n",
        "    with torch.no_grad():\n",
        "      output = model(testX)\n",
        "      loss_test = criterion(output, testY)\n",
        "    losses_train.append(loss.detach().numpy())\n",
        "    losses_test.append(loss_test.detach().numpy())\n",
        "    print(\"Loss train: \" + str(losses_train[-1]) + \" Loss test: \" + str(losses_test[-1]))"
      ],
      "metadata": {
        "id": "a_mxjqFcaF8o"
      },
      "execution_count": null,
      "outputs": []
    },
    {
      "cell_type": "code",
      "source": [
        "plt.plot(losses_train)\n",
        "plt.plot(losses_test)\n",
        "plt.xlabel(\"Epochs\")\n",
        "plt.ylabel(\"MSE\")"
      ],
      "metadata": {
        "id": "OOUdsCiGaSnz"
      },
      "execution_count": null,
      "outputs": []
    },
    {
      "cell_type": "code",
      "source": [
        "# Make predictions on the training and test sets\n",
        "trainPredict = model(trainX).detach().numpy()\n",
        "testPredict = model(testX).detach().numpy()"
      ],
      "metadata": {
        "id": "e_9QlULRblTv"
      },
      "execution_count": null,
      "outputs": []
    },
    {
      "cell_type": "code",
      "source": [
        "# Rescale the predictions back to the original scale\n",
        "trainPredict = scaler.inverse_transform(trainPredict)\n",
        "trainY_orig = scaler.inverse_transform(trainY.numpy())\n",
        "testPredict = scaler.inverse_transform(testPredict)\n",
        "testY_orig = scaler.inverse_transform(testY.numpy())"
      ],
      "metadata": {
        "id": "RLGTjOl2b_TO"
      },
      "execution_count": null,
      "outputs": []
    },
    {
      "cell_type": "code",
      "source": [
        "# Calculate root mean squared error (RMSE)\n",
        "trainScore = math.sqrt(mean_squared_error(trainY_orig.flatten(), trainPredict.flatten()))\n",
        "print('Train Score: %.2f MSE' % (trainScore))\n",
        "testScore = math.sqrt(mean_squared_error(testY_orig.flatten(), testPredict.flatten()))\n",
        "print('Test Score: %.2f MSE' % (testScore))"
      ],
      "metadata": {
        "id": "iT-NQnj5cQMT"
      },
      "execution_count": null,
      "outputs": []
    },
    {
      "cell_type": "code",
      "source": [
        "# Create empty plots for visualization\n",
        "trainPredictPlot = np.empty_like(dataset)\n",
        "trainPredictPlot[:, :] = np.nan\n",
        "trainPredictPlot[look_back_memory:len(trainPredict)+look_back_memory, :] = trainPredict\n",
        "testPredictPlot = np.empty_like(dataset)\n",
        "testPredictPlot[:, :] = np.nan\n",
        "testPredictPlot[len(trainPredict)+(look_back_memory*2)+1:len(dataset)-1, :] = testPredict"
      ],
      "metadata": {
        "id": "fIpFyQLAcXjM"
      },
      "execution_count": null,
      "outputs": []
    },
    {
      "cell_type": "code",
      "source": [
        "# Visualize the original data, training, and test predictions\n",
        "plt.plot(scaler.inverse_transform(dataset))\n",
        "plt.plot(trainPredictPlot)\n",
        "plt.plot(testPredictPlot)\n",
        "plt.show()"
      ],
      "metadata": {
        "id": "hSmupiI1cigJ"
      },
      "execution_count": null,
      "outputs": []
    },
    {
      "cell_type": "code",
      "source": [
        "# Define the LSTM model\n",
        "class LSTMModel(nn.Module):\n",
        "    def __init__(self, input_size, hidden_size, output_size):\n",
        "        super(LSTMModel, self).__init__()\n",
        "        self.hidden_size = hidden_size\n",
        "        self.lstm = nn.LSTM(input_size, hidden_size, batch_first=True)\n",
        "        self.fc = nn.Linear(hidden_size, output_size)\n",
        "\n",
        "    def forward(self, x):\n",
        "        out, _ = self.lstm(x)\n",
        "        out = self.fc(out[:, -1, :])\n",
        "        return out"
      ],
      "metadata": {
        "id": "gWCrm0MOclQl"
      },
      "execution_count": null,
      "outputs": []
    },
    {
      "cell_type": "code",
      "source": [
        "# Create and train the model\n",
        "model = LSTMModel(variables, 10, variables)\n",
        "criterion = nn.MSELoss()\n",
        "optimizer = optim.Adam(model.parameters(), lr=0.01)"
      ],
      "metadata": {
        "id": "swcvkCzId7AA"
      },
      "execution_count": null,
      "outputs": []
    },
    {
      "cell_type": "code",
      "source": [
        "losses_train = []\n",
        "losses_test = []\n",
        "for epoch in range(100):\n",
        "    optimizer.zero_grad()\n",
        "    output = model(trainX)\n",
        "    loss = criterion(output, trainY)\n",
        "    loss.backward()\n",
        "    optimizer.step()\n",
        "    with torch.no_grad():\n",
        "      output = model(testX)\n",
        "      loss_test = criterion(output, testY)\n",
        "    losses_train.append(loss.detach().numpy())\n",
        "    losses_test.append(loss_test.detach().numpy())\n",
        "    print(\"Loss train: \" + str(losses_train[-1]) + \" Loss test: \" + str(losses_test[-1]))"
      ],
      "metadata": {
        "id": "zLO1I6Hrd7AC"
      },
      "execution_count": null,
      "outputs": []
    },
    {
      "cell_type": "code",
      "source": [
        "plt.plot(losses_train)\n",
        "plt.plot(losses_test)\n",
        "plt.xlabel(\"Epochs\")\n",
        "plt.ylabel(\"MSE\")"
      ],
      "metadata": {
        "id": "F3xf2WMWd7AD"
      },
      "execution_count": null,
      "outputs": []
    },
    {
      "cell_type": "code",
      "source": [
        "# Make predictions on the training and test sets\n",
        "trainPredict = model(trainX).detach().numpy()\n",
        "testPredict = model(testX).detach().numpy()"
      ],
      "metadata": {
        "id": "piYUrSbCd7AD"
      },
      "execution_count": null,
      "outputs": []
    },
    {
      "cell_type": "code",
      "source": [
        "# Rescale the predictions back to the original scale\n",
        "trainPredict = scaler.inverse_transform(trainPredict)\n",
        "trainY_orig = scaler.inverse_transform(trainY.numpy())\n",
        "testPredict = scaler.inverse_transform(testPredict)\n",
        "testY_orig = scaler.inverse_transform(testY.numpy())"
      ],
      "metadata": {
        "id": "YJAo--aVd7AD"
      },
      "execution_count": null,
      "outputs": []
    },
    {
      "cell_type": "code",
      "source": [
        "# Calculate root mean squared error (RMSE)\n",
        "trainScore = math.sqrt(mean_squared_error(trainY_orig.flatten(), trainPredict.flatten()))\n",
        "print('Train Score: %.2f MSE' % (trainScore))\n",
        "testScore = math.sqrt(mean_squared_error(testY_orig.flatten(), testPredict.flatten()))\n",
        "print('Test Score: %.2f MSE' % (testScore))"
      ],
      "metadata": {
        "id": "BapDWR9Fd7AE"
      },
      "execution_count": null,
      "outputs": []
    },
    {
      "cell_type": "code",
      "source": [
        "# Create empty plots for visualization\n",
        "trainPredictPlot = np.empty_like(dataset)\n",
        "trainPredictPlot[:, :] = np.nan\n",
        "trainPredictPlot[look_back_memory:len(trainPredict)+look_back_memory, :] = trainPredict\n",
        "testPredictPlot = np.empty_like(dataset)\n",
        "testPredictPlot[:, :] = np.nan\n",
        "testPredictPlot[len(trainPredict)+(look_back_memory*2)+1:len(dataset)-1, :] = testPredict"
      ],
      "metadata": {
        "id": "wf_TcUSvd7AE"
      },
      "execution_count": null,
      "outputs": []
    },
    {
      "cell_type": "code",
      "source": [
        "# Visualize the original data, training, and test predictions\n",
        "plt.plot(scaler.inverse_transform(dataset))\n",
        "plt.plot(trainPredictPlot)\n",
        "plt.plot(testPredictPlot)\n",
        "plt.show()"
      ],
      "metadata": {
        "id": "EpnTrXLAd7AE"
      },
      "execution_count": null,
      "outputs": []
    },
    {
      "cell_type": "code",
      "source": [
        "# Define the GRU model\n",
        "class GRUModel(nn.Module):\n",
        "    def __init__(self, input_size, hidden_size, output_size):\n",
        "        super(GRUModel, self).__init__()\n",
        "        self.hidden_size = hidden_size\n",
        "        self.gru = nn.GRU(input_size, hidden_size, batch_first=True)\n",
        "        self.fc = nn.Linear(hidden_size, output_size)\n",
        "\n",
        "    def forward(self, x):\n",
        "        out, _ = self.gru(x)\n",
        "        out = self.fc(out[:, -1, :])\n",
        "        return out"
      ],
      "metadata": {
        "id": "FAYFjt-amrj2"
      },
      "execution_count": null,
      "outputs": []
    },
    {
      "cell_type": "code",
      "source": [
        "# Create and train the model\n",
        "model = GRUModel(variables, 10, variables)\n",
        "criterion = nn.MSELoss()\n",
        "optimizer = optim.Adam(model.parameters(), lr=0.01)"
      ],
      "metadata": {
        "id": "Bun1EIIBmrkD"
      },
      "execution_count": null,
      "outputs": []
    },
    {
      "cell_type": "code",
      "source": [
        "losses_train = []\n",
        "losses_test = []\n",
        "for epoch in range(100):\n",
        "    optimizer.zero_grad()\n",
        "    output = model(trainX)\n",
        "    loss = criterion(output, trainY)\n",
        "    loss.backward()\n",
        "    optimizer.step()\n",
        "    with torch.no_grad():\n",
        "      output = model(testX)\n",
        "      loss_test = criterion(output, testY)\n",
        "    losses_train.append(loss.detach().numpy())\n",
        "    losses_test.append(loss_test.detach().numpy())\n",
        "    print(\"Loss train: \" + str(losses_train[-1]) + \" Loss test: \" + str(losses_test[-1]))"
      ],
      "metadata": {
        "id": "Ho0D6VELmrkD"
      },
      "execution_count": null,
      "outputs": []
    },
    {
      "cell_type": "code",
      "source": [
        "plt.plot(losses_train)\n",
        "plt.plot(losses_test)\n",
        "plt.xlabel(\"Epochs\")\n",
        "plt.ylabel(\"MSE\")"
      ],
      "metadata": {
        "id": "B1xJIIRTmrkD"
      },
      "execution_count": null,
      "outputs": []
    },
    {
      "cell_type": "code",
      "source": [
        "# Make predictions on the training and test sets\n",
        "trainPredict = model(trainX).detach().numpy()\n",
        "testPredict = model(testX).detach().numpy()"
      ],
      "metadata": {
        "id": "ETACZh7ymrkD"
      },
      "execution_count": null,
      "outputs": []
    },
    {
      "cell_type": "code",
      "source": [
        "# Rescale the predictions back to the original scale\n",
        "trainPredict = scaler.inverse_transform(trainPredict)\n",
        "trainY_orig = scaler.inverse_transform(trainY.numpy())\n",
        "testPredict = scaler.inverse_transform(testPredict)\n",
        "testY_orig = scaler.inverse_transform(testY.numpy())"
      ],
      "metadata": {
        "id": "26A_EUJAmrkD"
      },
      "execution_count": null,
      "outputs": []
    },
    {
      "cell_type": "code",
      "source": [
        "# Calculate root mean squared error (RMSE)\n",
        "trainScore = math.sqrt(mean_squared_error(trainY_orig.flatten(), trainPredict.flatten()))\n",
        "print('Train Score: %.2f MSE' % (trainScore))\n",
        "testScore = math.sqrt(mean_squared_error(testY_orig.flatten(), testPredict.flatten()))\n",
        "print('Test Score: %.2f MSE' % (testScore))"
      ],
      "metadata": {
        "id": "P-JFp1-nmrkD"
      },
      "execution_count": null,
      "outputs": []
    },
    {
      "cell_type": "code",
      "source": [
        "# Create empty plots for visualization\n",
        "trainPredictPlot = np.empty_like(dataset)\n",
        "trainPredictPlot[:, :] = np.nan\n",
        "trainPredictPlot[look_back_memory:len(trainPredict)+look_back_memory, :] = trainPredict\n",
        "testPredictPlot = np.empty_like(dataset)\n",
        "testPredictPlot[:, :] = np.nan\n",
        "testPredictPlot[len(trainPredict)+(look_back_memory*2)+1:len(dataset)-1, :] = testPredict"
      ],
      "metadata": {
        "id": "q27qkmYCmrkD"
      },
      "execution_count": null,
      "outputs": []
    },
    {
      "cell_type": "code",
      "source": [
        "# Visualize the original data, training, and test predictions\n",
        "plt.plot(scaler.inverse_transform(dataset))\n",
        "plt.plot(trainPredictPlot)\n",
        "plt.plot(testPredictPlot)\n",
        "plt.show()"
      ],
      "metadata": {
        "id": "VMX7uEWimrkD"
      },
      "execution_count": null,
      "outputs": []
    }
  ]
}