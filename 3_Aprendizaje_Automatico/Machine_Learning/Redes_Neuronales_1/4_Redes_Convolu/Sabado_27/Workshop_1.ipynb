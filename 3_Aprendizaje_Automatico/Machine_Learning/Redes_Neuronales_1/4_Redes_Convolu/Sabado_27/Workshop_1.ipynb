{
  "nbformat": 4,
  "nbformat_minor": 0,
  "metadata": {
    "colab": {
      "provenance": []
    },
    "kernelspec": {
      "name": "python3",
      "display_name": "Python 3"
    },
    "accelerator": "GPU"
  },
  "cells": [
    {
      "cell_type": "markdown",
      "metadata": {
        "id": "KJngudDEpokd"
      },
      "source": [
        "# Image classification with fastai\n",
        "\n",
        "In this workshop we will learn to build state of the art models for classification really fast with [fastai](https://www.fast.ai/). The structure of the workshop will be the follwing:\n",
        "\n",
        "\n",
        "\n",
        "1.   Load and explore data\n",
        "2.   Train the model\n",
        "3.   Evaluate results\n",
        "\n"
      ]
    },
    {
      "cell_type": "markdown",
      "metadata": {
        "id": "cqXKv7dBx4_K"
      },
      "source": [
        "# Don't forget to configure the execution environment to run in GPU"
      ]
    },
    {
      "cell_type": "markdown",
      "metadata": {
        "id": "GyF2uMjoq1un"
      },
      "source": [
        "# Download data"
      ]
    },
    {
      "cell_type": "code",
      "metadata": {
        "id": "PsToI3eVq4qi"
      },
      "source": [
        "# Import fastai\n",
        "from fastai.vision import *"
      ],
      "execution_count": null,
      "outputs": []
    },
    {
      "cell_type": "code",
      "metadata": {
        "id": "bC4TXu03DqCy"
      },
      "source": [
        "import warnings\n",
        "warnings.filterwarnings(\"ignore\")"
      ],
      "execution_count": null,
      "outputs": []
    },
    {
      "cell_type": "code",
      "metadata": {
        "id": "6lEjmVOmrGWb"
      },
      "source": [
        "# Download dataset\n",
        "path = untar_data(URLs.CIFAR_100)"
      ],
      "execution_count": null,
      "outputs": []
    },
    {
      "cell_type": "code",
      "metadata": {
        "id": "GDmmYcDxrbhg"
      },
      "source": [
        "path"
      ],
      "execution_count": null,
      "outputs": []
    },
    {
      "cell_type": "code",
      "metadata": {
        "id": "ya-alhdxsfLD"
      },
      "source": [
        "path.ls()"
      ],
      "execution_count": null,
      "outputs": []
    },
    {
      "cell_type": "code",
      "metadata": {
        "id": "HmX8F72HsmIO"
      },
      "source": [
        "(path / \"train\").ls()"
      ],
      "execution_count": null,
      "outputs": []
    },
    {
      "cell_type": "code",
      "metadata": {
        "id": "RfsvxkMwstI_"
      },
      "source": [
        "(path / \"train\" / \"reptiles\").ls()"
      ],
      "execution_count": null,
      "outputs": []
    },
    {
      "cell_type": "code",
      "metadata": {
        "id": "hew7jF63s7w5"
      },
      "source": [
        "(path / \"train\" / \"reptiles\" / \"dinosaur\").ls()"
      ],
      "execution_count": null,
      "outputs": []
    },
    {
      "cell_type": "code",
      "metadata": {
        "id": "pZhUNK1KtZfy"
      },
      "source": [
        "(path / \"test\" ).ls()"
      ],
      "execution_count": null,
      "outputs": []
    },
    {
      "cell_type": "code",
      "metadata": {
        "id": "W8eOgGcIuTPF"
      },
      "source": [
        "# Open image with fastai helper function\n",
        "img = open_image('/root/.fastai/data/cifar100/train/reptiles/dinosaur/stegosaurus_s_001202.png')"
      ],
      "execution_count": null,
      "outputs": []
    },
    {
      "cell_type": "code",
      "metadata": {
        "id": "9JgyolZzudzz"
      },
      "source": [
        "img.show()"
      ],
      "execution_count": null,
      "outputs": []
    },
    {
      "cell_type": "code",
      "metadata": {
        "id": "sX_bR92huhO4"
      },
      "source": [
        "img.shape"
      ],
      "execution_count": null,
      "outputs": []
    },
    {
      "cell_type": "markdown",
      "metadata": {
        "id": "UMVwUYxZqxdR"
      },
      "source": [
        "# 1. Load and explore data"
      ]
    },
    {
      "cell_type": "code",
      "metadata": {
        "id": "-0WEDN6Gqwez"
      },
      "source": [
        "# Load data\n",
        "batch_size = 256\n",
        "size = 32\n",
        "data = ImageDataBunch.from_folder(path=path, train=\"train\", test=\"test\", \n",
        "                                  valid_pct=0.2, \n",
        "                                  ds_tfms=get_transforms(), size=size, \n",
        "                                  bs=batch_size\n",
        "                                  ).normalize(imagenet_stats)"
      ],
      "execution_count": null,
      "outputs": []
    },
    {
      "cell_type": "markdown",
      "metadata": {
        "id": "WK4t-RMmwP19"
      },
      "source": [
        "You can check this [link](https://docs.fast.ai/vision.data.html) to learn many more options to load data"
      ]
    },
    {
      "cell_type": "code",
      "metadata": {
        "id": "UKxtJ_-LplRQ"
      },
      "source": [
        "# Show classes\n",
        "data.classes"
      ],
      "execution_count": null,
      "outputs": []
    },
    {
      "cell_type": "code",
      "metadata": {
        "id": "db55sYFVvpyq"
      },
      "source": [
        "print(len(data.classes))"
      ],
      "execution_count": null,
      "outputs": []
    },
    {
      "cell_type": "code",
      "metadata": {
        "id": "atFV13zbt0Cu"
      },
      "source": [
        "# Show samples of data\n",
        "data.show_batch(rows=3, figsize=(7,6))"
      ],
      "execution_count": null,
      "outputs": []
    },
    {
      "cell_type": "markdown",
      "metadata": {
        "id": "1dP9vLTnwBBY"
      },
      "source": [
        "# 2.   Train the model"
      ]
    },
    {
      "cell_type": "markdown",
      "metadata": {
        "id": "MmbtJt7d2yp0"
      },
      "source": [
        "## 32x32"
      ]
    },
    {
      "cell_type": "code",
      "metadata": {
        "id": "ab9lfolNvOIY"
      },
      "source": [
        "# Initialize learner\n",
        "learn = cnn_learner(data, models.resnet18, metrics=accuracy)"
      ],
      "execution_count": null,
      "outputs": []
    },
    {
      "cell_type": "markdown",
      "metadata": {
        "id": "cEs_tT8UwoXg"
      },
      "source": [
        "You can check this [link](https://fastai1.fast.ai/vision.models.html) to learn the different state of the art models implemented in fastai"
      ]
    },
    {
      "cell_type": "code",
      "metadata": {
        "id": "nBUCGFwIwE5-"
      },
      "source": [
        "learn.model"
      ],
      "execution_count": null,
      "outputs": []
    },
    {
      "cell_type": "code",
      "metadata": {
        "id": "7bxboZiVxZTP"
      },
      "source": [
        "# Find optimum learning rate\n",
        "learn.lr_find()\n",
        "learn.recorder.plot()"
      ],
      "execution_count": null,
      "outputs": []
    },
    {
      "cell_type": "code",
      "metadata": {
        "id": "ymYLNE_jyifN"
      },
      "source": [
        "# Set learning rate\n",
        "lr = 1e-2"
      ],
      "execution_count": null,
      "outputs": []
    },
    {
      "cell_type": "code",
      "metadata": {
        "id": "VC3Kno0AymUD"
      },
      "source": [
        "# Train 5 epochs\n",
        "learn.fit_one_cycle(5, max_lr=slice(lr))"
      ],
      "execution_count": null,
      "outputs": []
    },
    {
      "cell_type": "code",
      "metadata": {
        "id": "FENfihjl0BzD"
      },
      "source": [
        "# Save model\n",
        "learn.save(\"score-3733\")"
      ],
      "execution_count": null,
      "outputs": []
    },
    {
      "cell_type": "code",
      "metadata": {
        "id": "OGw6zsiJ0_tt"
      },
      "source": [
        "# Unfreeze conv layers\n",
        "learn.unfreeze()"
      ],
      "execution_count": null,
      "outputs": []
    },
    {
      "cell_type": "code",
      "metadata": {
        "id": "SYtQzvyS1Fod"
      },
      "source": [
        "# Find learning rate\n",
        "learn.lr_find()\n",
        "learn.recorder.plot()"
      ],
      "execution_count": null,
      "outputs": []
    },
    {
      "cell_type": "code",
      "metadata": {
        "id": "tI3anTFl1PFi"
      },
      "source": [
        "# Set learning rate\n",
        "lr = 5e-4"
      ],
      "execution_count": null,
      "outputs": []
    },
    {
      "cell_type": "code",
      "metadata": {
        "id": "8BvR3yHz1Pv3"
      },
      "source": [
        "# Train 5 epochs\n",
        "learn.fit_one_cycle(5, max_lr=slice(lr/100,lr))"
      ],
      "execution_count": null,
      "outputs": []
    },
    {
      "cell_type": "code",
      "metadata": {
        "id": "bMwRLm9F2c9v"
      },
      "source": [
        "# Save model\n",
        "learn.save(\"score-4236\")"
      ],
      "execution_count": null,
      "outputs": []
    },
    {
      "cell_type": "markdown",
      "metadata": {
        "id": "cW8UPK3C21ff"
      },
      "source": [
        "## 128x128"
      ]
    },
    {
      "cell_type": "code",
      "metadata": {
        "id": "gQhRwyt02lnE"
      },
      "source": [
        "# Load data\n",
        "batch_size = 64\n",
        "size = 128\n",
        "data = ImageDataBunch.from_folder(path=path, train=\"train\", test=\"test\", \n",
        "                                  valid_pct=0.2, \n",
        "                                  ds_tfms=get_transforms(), size=size, \n",
        "                                  bs=batch_size\n",
        "                                  ).normalize(imagenet_stats)"
      ],
      "execution_count": null,
      "outputs": []
    },
    {
      "cell_type": "code",
      "metadata": {
        "id": "ZPbqaB1C27zP"
      },
      "source": [
        "# Configure learner with new data and freeze conv layers\n",
        "learn.data = data\n",
        "learn.freeze()"
      ],
      "execution_count": null,
      "outputs": []
    },
    {
      "cell_type": "code",
      "metadata": {
        "id": "zsF7YVhr2_nV"
      },
      "source": [
        "# Find learning rate\n",
        "learn.lr_find()\n",
        "learn.recorder.plot()"
      ],
      "execution_count": null,
      "outputs": []
    },
    {
      "cell_type": "code",
      "metadata": {
        "id": "xJp1wZdv3OaP"
      },
      "source": [
        "# Set learning rate\n",
        "lr = 1e-2"
      ],
      "execution_count": null,
      "outputs": []
    },
    {
      "cell_type": "code",
      "metadata": {
        "id": "aPPJvu1D3RvX"
      },
      "source": [
        "# Train 5 epochs\n",
        "learn.fit_one_cycle(5, max_lr=slice(lr))"
      ],
      "execution_count": null,
      "outputs": []
    },
    {
      "cell_type": "code",
      "metadata": {
        "id": "8yOL_F3Z7JxK"
      },
      "source": [
        "# Save model\n",
        "learn.save(\"score-7310\")"
      ],
      "execution_count": null,
      "outputs": []
    },
    {
      "cell_type": "code",
      "metadata": {
        "id": "FvV_GjUQ7PqL"
      },
      "source": [
        "# Unfreeze conv layers\n",
        "learn.unfreeze()"
      ],
      "execution_count": null,
      "outputs": []
    },
    {
      "cell_type": "code",
      "metadata": {
        "id": "T6odKoCR7Y9p"
      },
      "source": [
        "# Find learning rate\n",
        "learn.lr_find()\n",
        "learn.recorder.plot()"
      ],
      "execution_count": null,
      "outputs": []
    },
    {
      "cell_type": "code",
      "metadata": {
        "id": "fAHthnTR7Y9y"
      },
      "source": [
        "# Set learning rate\n",
        "lr = 1e-4"
      ],
      "execution_count": null,
      "outputs": []
    },
    {
      "cell_type": "code",
      "metadata": {
        "id": "_Y8ue7ML7Y90"
      },
      "source": [
        "# Train 5 epochs\n",
        "learn.fit_one_cycle(5, max_lr=slice(lr/100,lr))"
      ],
      "execution_count": null,
      "outputs": []
    },
    {
      "cell_type": "code",
      "metadata": {
        "id": "7T7zs41q7Y92"
      },
      "source": [
        "# Save model\n",
        "learn.save(\"score-7378\")"
      ],
      "execution_count": null,
      "outputs": []
    },
    {
      "cell_type": "markdown",
      "metadata": {
        "id": "0qgGNe4W9Ww7"
      },
      "source": [
        "# 224x224"
      ]
    },
    {
      "cell_type": "code",
      "metadata": {
        "id": "v8eifi1E9bTd"
      },
      "source": [
        "# Load data\n",
        "batch_size = 32\n",
        "size = 224\n",
        "data = ImageDataBunch.from_folder(path=path, train=\"train\", test=\"test\", \n",
        "                                  valid_pct=0.2, \n",
        "                                  ds_tfms=get_transforms(), size=size, \n",
        "                                  bs=batch_size\n",
        "                                  ).normalize(imagenet_stats)"
      ],
      "execution_count": null,
      "outputs": []
    },
    {
      "cell_type": "code",
      "metadata": {
        "id": "PvRC6Lci9bTn"
      },
      "source": [
        "# Configure learner with new data and freeze conv layers\n",
        "learn.data = data\n",
        "learn.freeze()"
      ],
      "execution_count": null,
      "outputs": []
    },
    {
      "cell_type": "code",
      "metadata": {
        "id": "McxVwukG9bTp"
      },
      "source": [
        "# Find learning rate\n",
        "learn.lr_find()\n",
        "learn.recorder.plot()"
      ],
      "execution_count": null,
      "outputs": []
    },
    {
      "cell_type": "code",
      "metadata": {
        "id": "re8liLmy9bTs"
      },
      "source": [
        "# Set learning rate\n",
        "lr = 5e-3"
      ],
      "execution_count": null,
      "outputs": []
    },
    {
      "cell_type": "code",
      "metadata": {
        "id": "9UoJ__ag9bTu"
      },
      "source": [
        "# Train 5 epochs\n",
        "learn.fit_one_cycle(5, max_lr=slice(lr))"
      ],
      "execution_count": null,
      "outputs": []
    },
    {
      "cell_type": "code",
      "metadata": {
        "id": "Ehwc2lJ39bTv"
      },
      "source": [
        "# Save model\n",
        "learn.save(\"score-7665\")"
      ],
      "execution_count": null,
      "outputs": []
    },
    {
      "cell_type": "code",
      "metadata": {
        "id": "WkfGQxr49bTx"
      },
      "source": [
        "# Unfreeze conv layers\n",
        "learn.unfreeze()"
      ],
      "execution_count": null,
      "outputs": []
    },
    {
      "cell_type": "code",
      "metadata": {
        "id": "84vitKeP9bTz"
      },
      "source": [
        "# Find learning rate\n",
        "learn.lr_find()\n",
        "learn.recorder.plot()"
      ],
      "execution_count": null,
      "outputs": []
    },
    {
      "cell_type": "code",
      "metadata": {
        "id": "4RW9hy3k9bT0"
      },
      "source": [
        "# Set learning rate\n",
        "lr = 1e-4"
      ],
      "execution_count": null,
      "outputs": []
    },
    {
      "cell_type": "code",
      "metadata": {
        "id": "LZIpQ_oY9bT2"
      },
      "source": [
        "# Train 5 epochs\n",
        "learn.fit_one_cycle(5, max_lr=slice(lr/100,lr))"
      ],
      "execution_count": null,
      "outputs": []
    },
    {
      "cell_type": "code",
      "metadata": {
        "id": "aFhWiqev9bT4"
      },
      "source": [
        "# Save model\n",
        "learn.save(\"score-7898\")"
      ],
      "execution_count": null,
      "outputs": []
    },
    {
      "cell_type": "markdown",
      "metadata": {
        "id": "ldo24Rm2wFdo"
      },
      "source": [
        "# 3.   Evaluate results"
      ]
    },
    {
      "cell_type": "code",
      "metadata": {
        "id": "ifEW07FXwF98"
      },
      "source": [
        "# Mostrar muestras peor classificadas\n",
        "interp = ClassificationInterpretation.from_learner(learn)\n",
        "interp.plot_top_losses(9, figsize=(15,11))"
      ],
      "execution_count": null,
      "outputs": []
    },
    {
      "cell_type": "code",
      "metadata": {
        "id": "VeuVSVv6H51I"
      },
      "source": [
        "# Show confusion matrix\n",
        "interp.plot_confusion_matrix(figsize=(30,30), dpi=60)"
      ],
      "execution_count": null,
      "outputs": []
    },
    {
      "cell_type": "code",
      "metadata": {
        "id": "Cm9aYe43IQR9"
      },
      "source": [
        "# Show most confused classes\n",
        "interp.most_confused(min_val=2)"
      ],
      "execution_count": null,
      "outputs": []
    },
    {
      "cell_type": "markdown",
      "metadata": {
        "id": "RgAbVbqaNWRv"
      },
      "source": [
        "# Exercise 1: Train a DenseNet201 resizing images to 224x224"
      ]
    },
    {
      "cell_type": "code",
      "metadata": {
        "id": "cj_6bbPuNmL1"
      },
      "source": [
        "# Load data\n"
      ],
      "execution_count": null,
      "outputs": []
    },
    {
      "cell_type": "code",
      "metadata": {
        "id": "Tk_3JKyeNmL6"
      },
      "source": [
        "# Initialize learner\n"
      ],
      "execution_count": null,
      "outputs": []
    },
    {
      "cell_type": "code",
      "metadata": {
        "id": "3fbmd9FvNmL8"
      },
      "source": [
        "# Find learning rate\n"
      ],
      "execution_count": null,
      "outputs": []
    },
    {
      "cell_type": "code",
      "metadata": {
        "id": "Fb5qsaYPNmL_"
      },
      "source": [
        "# Set learning rate\n"
      ],
      "execution_count": null,
      "outputs": []
    },
    {
      "cell_type": "code",
      "metadata": {
        "id": "T3OVNJTXNmMB"
      },
      "source": [
        "# Train 1 epochs\n"
      ],
      "execution_count": null,
      "outputs": []
    },
    {
      "cell_type": "code",
      "metadata": {
        "id": "aV-MHFjNNmMC"
      },
      "source": [
        "# Save model\n"
      ],
      "execution_count": null,
      "outputs": []
    },
    {
      "cell_type": "code",
      "metadata": {
        "id": "B2uDb31VNmME"
      },
      "source": [
        "# Unfreeze conv layers\n"
      ],
      "execution_count": null,
      "outputs": []
    },
    {
      "cell_type": "code",
      "metadata": {
        "id": "D2B0mmvxNmMG"
      },
      "source": [
        "# Find learning rate\n"
      ],
      "execution_count": null,
      "outputs": []
    },
    {
      "cell_type": "code",
      "metadata": {
        "id": "SQfyfUiuNmMH"
      },
      "source": [
        "# Set learning rate\n"
      ],
      "execution_count": null,
      "outputs": []
    },
    {
      "cell_type": "code",
      "metadata": {
        "id": "XRryFtt5NmMJ"
      },
      "source": [
        "# Train 5 epochs\n"
      ],
      "execution_count": null,
      "outputs": []
    },
    {
      "cell_type": "code",
      "metadata": {
        "id": "_v8TXzKsNmMM"
      },
      "source": [
        "# Save model\n"
      ],
      "execution_count": null,
      "outputs": []
    },
    {
      "cell_type": "code",
      "metadata": {
        "id": "Nb4PzJZ7LUop"
      },
      "source": [
        "# Mostrar muestras peor classificadas\n"
      ],
      "execution_count": null,
      "outputs": []
    },
    {
      "cell_type": "code",
      "metadata": {
        "id": "gF9CU0aTpSJ-"
      },
      "source": [
        "# Show confusion matrix\n"
      ],
      "execution_count": null,
      "outputs": []
    },
    {
      "cell_type": "code",
      "metadata": {
        "id": "3Ehrsemipg-k"
      },
      "source": [
        "# Show most confused classes\n"
      ],
      "execution_count": null,
      "outputs": []
    }
  ]
}