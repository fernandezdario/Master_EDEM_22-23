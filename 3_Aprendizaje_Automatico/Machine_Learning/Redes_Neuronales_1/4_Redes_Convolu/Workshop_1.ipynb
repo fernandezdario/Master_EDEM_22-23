{
  "nbformat": 4,
  "nbformat_minor": 0,
  "metadata": {
    "colab": {
      "provenance": []
    },
    "kernelspec": {
      "name": "python3",
      "display_name": "Python 3"
    },
    "accelerator": "GPU"
  },
  "cells": [
    {
      "cell_type": "markdown",
      "metadata": {
        "id": "URDCkAdCnSpa"
      },
      "source": [
        "# Workshop 1: Computer Vision\n",
        "\n",
        "In this workshop we will learn the fundamental operations of Computer Vision. The structure of the workshop will be the following:\n",
        "\n",
        "\n",
        "1.   Exploratory analysis of imaging data\n",
        "2.   Contrast enhancement\n",
        "3.   Convolutional filters\n",
        "4.   Object Identification\n",
        "\n",
        "The main libraries that will be used in the workshop are:\n",
        "\n",
        "\n",
        "\n",
        "*   PIL (Python Image Library)\n",
        "*   OpenCV (Open Computer Vision)\n",
        "\n",
        "\n",
        "\n"
      ]
    },
    {
      "cell_type": "markdown",
      "metadata": {
        "id": "AJNLd4wkt-38"
      },
      "source": [
        "## Download images from Google Drive"
      ]
    },
    {
      "cell_type": "code",
      "metadata": {
        "id": "ir_wvpERNj0G"
      },
      "source": [
        "# Import Google Drive libraries\n",
        "from pydrive.auth import GoogleAuth\n",
        "from pydrive.drive import GoogleDrive\n",
        "from google.colab import auth\n",
        "from oauth2client.client import GoogleCredentials"
      ],
      "execution_count": null,
      "outputs": []
    },
    {
      "cell_type": "code",
      "metadata": {
        "id": "hfTRSp17N24f"
      },
      "source": [
        "# Authenticate with your Google Account\n",
        "auth.authenticate_user()\n",
        "gauth = GoogleAuth()\n",
        "gauth.credentials = GoogleCredentials.get_application_default()\n",
        "drive = GoogleDrive(gauth)"
      ],
      "execution_count": null,
      "outputs": []
    },
    {
      "cell_type": "code",
      "metadata": {
        "id": "JdCzkEHaT538"
      },
      "source": [
        "# Download the images of the workshop\n",
        "download = drive.CreateFile({'id': '1Br47aTyNChZxuU7s7s4k255JpO485i3z'})\n",
        "download.GetContentFile('workshop1.zip')"
      ],
      "execution_count": null,
      "outputs": []
    },
    {
      "cell_type": "code",
      "metadata": {
        "id": "vUotFVb2XP-5"
      },
      "source": [
        "# Extract the files\n",
        "import zipfile\n",
        "from pathlib import Path\n",
        "images_path = Path(\"./workshop1.zip\")\n",
        "\n",
        "with zipfile.ZipFile(str(images_path), 'r') as zip_ref:\n",
        "    zip_ref.extractall(\"./\")"
      ],
      "execution_count": null,
      "outputs": []
    },
    {
      "cell_type": "code",
      "metadata": {
        "id": "lmRi4DTSs5Wy"
      },
      "source": [
        "ls"
      ],
      "execution_count": null,
      "outputs": []
    },
    {
      "cell_type": "markdown",
      "metadata": {
        "id": "oThWiicwqRxj"
      },
      "source": [
        "## 1. Exploratory analysis of imaging data"
      ]
    },
    {
      "cell_type": "code",
      "metadata": {
        "id": "lOLwKz0Wq6pw"
      },
      "source": [
        "# Import libraries\n",
        "import cv2\n",
        "from PIL import Image\n",
        "import numpy as np"
      ],
      "execution_count": null,
      "outputs": []
    },
    {
      "cell_type": "code",
      "metadata": {
        "id": "7qeAijMoyvwi"
      },
      "source": [
        "%matplotlib inline\n",
        "import matplotlib.pyplot as plt\n",
        "plt.rcParams['figure.figsize'] = (10,10)"
      ],
      "execution_count": null,
      "outputs": []
    },
    {
      "cell_type": "code",
      "metadata": {
        "id": "VSGkD5S3wO5w"
      },
      "source": [
        "# Load an image with OpenCV and PIL\n",
        "image_opencv = cv2.imread(\"lena.png\")\n",
        "image_pil = Image.open(\"lena.png\")"
      ],
      "execution_count": null,
      "outputs": []
    },
    {
      "cell_type": "code",
      "metadata": {
        "id": "52ndmlWzwO2g"
      },
      "source": [
        "# Explore the type of OpenCV and PIL\n",
        "print(\"OpenCV type:\", type(image_opencv))\n",
        "print(\"PIL type: \", type(image_pil))"
      ],
      "execution_count": null,
      "outputs": []
    },
    {
      "cell_type": "code",
      "metadata": {
        "id": "rh_GYoiV2ir2"
      },
      "source": [
        "# Explore the data type of data\n",
        "print(\"OpenCV Dtype:\", image_opencv.dtype)\n",
        "print(\"PIL Dtype:\", np.array(image_pil).dtype)"
      ],
      "execution_count": null,
      "outputs": []
    },
    {
      "cell_type": "code",
      "metadata": {
        "id": "qN-SifVD28XI"
      },
      "source": [
        "# Explore range of data\n",
        "print(\"OpenCV range:\", \"[\", image_opencv.min(), \",\", image_opencv.max(), \"]\")\n",
        "print(\"PIL range:\", \"[\", np.array(image_pil).min(), \",\", \n",
        "      np.array(image_pil).max(), \"]\")"
      ],
      "execution_count": null,
      "outputs": []
    },
    {
      "cell_type": "code",
      "metadata": {
        "id": "fGxr6SS22PFH"
      },
      "source": [
        "# Explore shape of data\n",
        "print(\"OpenCV shape:\", image_opencv.shape)\n",
        "print(\"PIL shape:\", np.array(image_pil).shape)"
      ],
      "execution_count": null,
      "outputs": []
    },
    {
      "cell_type": "code",
      "metadata": {
        "id": "Vo1Rq7bowOzl"
      },
      "source": [
        "# Show image PIL format\n",
        "plt.imshow(np.array(image_pil))"
      ],
      "execution_count": null,
      "outputs": []
    },
    {
      "cell_type": "code",
      "metadata": {
        "id": "NoADRDwLwOw5"
      },
      "source": [
        "# Show OpenCV image\n",
        "plt.imshow(image_opencv)"
      ],
      "execution_count": null,
      "outputs": []
    },
    {
      "cell_type": "code",
      "metadata": {
        "id": "ocwUu8ruwOsu"
      },
      "source": [
        "# Function to show OpenCV images correctly\n",
        "def imshow_ocv_rgb(image):\n",
        "  image_rgb = np.flip(image, axis=2)\n",
        "  plt.imshow(image_rgb)"
      ],
      "execution_count": null,
      "outputs": []
    },
    {
      "cell_type": "code",
      "metadata": {
        "id": "1OlOJBahwOkN"
      },
      "source": [
        "# Show OpenCV image\n",
        "imshow_ocv_rgb(image_opencv)"
      ],
      "execution_count": null,
      "outputs": []
    },
    {
      "cell_type": "code",
      "metadata": {
        "id": "bsHah4KiOjZy"
      },
      "source": [
        "# Show blue channel of OpenCV image\n",
        "plt.imshow(image_opencv[:, :, 0], cmap=\"gray\")"
      ],
      "execution_count": null,
      "outputs": []
    },
    {
      "cell_type": "code",
      "metadata": {
        "id": "H9t_HhmlOt0r"
      },
      "source": [
        "# Show green channel of OpenCV image\n",
        "plt.imshow(image_opencv[:, :, 1], cmap=\"gray\")"
      ],
      "execution_count": null,
      "outputs": []
    },
    {
      "cell_type": "code",
      "metadata": {
        "id": "e1VuM9r6O7UW"
      },
      "source": [
        "# Show red channel of OpenCV image\n",
        "plt.imshow(image_opencv[:, :, 2], cmap=\"gray\")"
      ],
      "execution_count": null,
      "outputs": []
    },
    {
      "cell_type": "code",
      "metadata": {
        "id": "Ytv31Qut5zko"
      },
      "source": [
        "# Convert images to grayscale\n",
        "image_ocv_gray = cv2.cvtColor(image_opencv, cv2.COLOR_BGR2GRAY)\n",
        "image_pil_gray = image_pil.convert(\"L\")"
      ],
      "execution_count": null,
      "outputs": []
    },
    {
      "cell_type": "code",
      "metadata": {
        "id": "6taNUGc76vGn"
      },
      "source": [
        "# Explore shape of data\n",
        "print(\"OpenCV shape:\", image_ocv_gray.shape)\n",
        "print(\"PIL shape:\", np.array(image_pil_gray).shape)"
      ],
      "execution_count": null,
      "outputs": []
    },
    {
      "cell_type": "code",
      "metadata": {
        "id": "rQqfqYzJ6QJJ"
      },
      "source": [
        "# Show image OpenCV in grayscale\n",
        "plt.imshow(image_ocv_gray, cmap=\"gray\")"
      ],
      "execution_count": null,
      "outputs": []
    },
    {
      "cell_type": "code",
      "metadata": {
        "id": "Pebev3C77kxe"
      },
      "source": [
        "# Show image PIL in grayscale\n",
        "plt.imshow(image_pil_gray, cmap=\"gray\")"
      ],
      "execution_count": null,
      "outputs": []
    },
    {
      "cell_type": "code",
      "metadata": {
        "id": "FNj3mSwA5I-D"
      },
      "source": [
        "# Function to show histogram\n",
        "def show_histo(image):  \n",
        "  hist, bins = np.histogram(image, bins=255)\n",
        "  width = 0.7 * (bins[1] - bins[0])\n",
        "  center = (bins[:-1] + bins[1:]) / 2\n",
        "  plt.bar(center, hist, align='center', width=width)\n",
        "  plt.show()"
      ],
      "execution_count": null,
      "outputs": []
    },
    {
      "cell_type": "code",
      "metadata": {
        "id": "3EuIZz2L73Kz"
      },
      "source": [
        "# Show histogram of an image\n",
        "plt.hist(image_ocv_gray.flatten(), 256, [0,256], color = 'b')"
      ],
      "execution_count": null,
      "outputs": []
    },
    {
      "cell_type": "markdown",
      "metadata": {
        "id": "O7gHWHW-qYX1"
      },
      "source": [
        "## 2. Contrast enhancement"
      ]
    },
    {
      "cell_type": "code",
      "metadata": {
        "id": "7WLnaECT-33i"
      },
      "source": [
        "def show_bef_aft(img_bef, img_aft):\n",
        "  img_bef_aft = np.hstack((img_bef, img_aft))\n",
        "  plt.imshow(img_bef_aft, cmap=\"gray\")"
      ],
      "execution_count": null,
      "outputs": []
    },
    {
      "cell_type": "code",
      "metadata": {
        "id": "vguSyhjm4sqK"
      },
      "source": [
        "# Apply histogram equalization\n",
        "image_equ = cv2.equalizeHist(image_ocv_gray)"
      ],
      "execution_count": null,
      "outputs": []
    },
    {
      "cell_type": "code",
      "metadata": {
        "id": "xHiTU15s4snR"
      },
      "source": [
        "# Show effects of histogram equalization\n",
        "show_bef_aft(image_ocv_gray, image_equ)"
      ],
      "execution_count": null,
      "outputs": []
    },
    {
      "cell_type": "code",
      "metadata": {
        "id": "Y6AK7WUjVnAL"
      },
      "source": [
        "# Show histogram of equalized image\n",
        "plt.hist(image_equ.flatten(), 256, [0,256], color = 'b')"
      ],
      "execution_count": null,
      "outputs": []
    },
    {
      "cell_type": "code",
      "metadata": {
        "id": "x5OKNgUL4skO"
      },
      "source": [
        "# Apply CLAHE (Contrast Limited Adaptive Histogram Equalization)\n",
        "clahe = cv2.createCLAHE(clipLimit=2.0, tileGridSize=(8,8))\n",
        "image_clahe = clahe.apply(image_ocv_gray)"
      ],
      "execution_count": null,
      "outputs": []
    },
    {
      "cell_type": "code",
      "metadata": {
        "id": "dv1zvfNF4sg-"
      },
      "source": [
        "# Show effects of CLAHE\n",
        "show_bef_aft(image_ocv_gray, image_clahe)"
      ],
      "execution_count": null,
      "outputs": []
    },
    {
      "cell_type": "code",
      "metadata": {
        "id": "8wkYSJXiaQdO"
      },
      "source": [
        "# Show histogram of equalized image\n",
        "plt.hist(image_clahe.flatten(), 256, [0,256], color = 'b')"
      ],
      "execution_count": null,
      "outputs": []
    },
    {
      "cell_type": "code",
      "source": [
        "image_ocv_gray.shape\n",
        "img_res = cv2.resize(image_ocv_gray, (750, 500))\n",
        "img_res.shape"
      ],
      "metadata": {
        "id": "tWIbz8tpyqkZ"
      },
      "execution_count": null,
      "outputs": []
    },
    {
      "cell_type": "code",
      "source": [
        "plt.imshow(img_res, cmap='gray')"
      ],
      "metadata": {
        "id": "FVgiJxfPzKiY"
      },
      "execution_count": null,
      "outputs": []
    },
    {
      "cell_type": "markdown",
      "metadata": {
        "id": "qj15cs7SqXmO"
      },
      "source": [
        "## 3. Convolutional filters"
      ]
    },
    {
      "cell_type": "markdown",
      "metadata": {
        "id": "iubL58SPIl3l"
      },
      "source": [
        "### Average Filter"
      ]
    },
    {
      "cell_type": "code",
      "metadata": {
        "id": "Aq7y9gN4BFKL"
      },
      "source": [
        "# Apply average filter 3x3\n",
        "image_blur = cv2.blur(image_ocv_gray, (3,3))\n",
        "show_bef_aft(image_ocv_gray, image_blur)"
      ],
      "execution_count": null,
      "outputs": []
    },
    {
      "cell_type": "code",
      "metadata": {
        "id": "iBc1FBJXl-Tb"
      },
      "source": [
        "# Show difference\n",
        "show_bef_aft(image_ocv_gray, image_ocv_gray - image_blur)"
      ],
      "execution_count": null,
      "outputs": []
    },
    {
      "cell_type": "code",
      "metadata": {
        "id": "qFI8X9XVBFAR"
      },
      "source": [
        "# Apply average filter 15x15\n",
        "image_blur = cv2.blur(image_ocv_gray, (15,15))\n",
        "show_bef_aft(image_ocv_gray, image_blur)"
      ],
      "execution_count": null,
      "outputs": []
    },
    {
      "cell_type": "code",
      "metadata": {
        "id": "ts7QRPZTO0WS"
      },
      "source": [
        "# Show difference\n",
        "show_bef_aft(image_ocv_gray, image_ocv_gray - image_blur)"
      ],
      "execution_count": null,
      "outputs": []
    },
    {
      "cell_type": "markdown",
      "metadata": {
        "id": "qZvpZgKEIyS6"
      },
      "source": [
        "### Gaussian Filter"
      ]
    },
    {
      "cell_type": "code",
      "metadata": {
        "id": "k1coIvQABE9n"
      },
      "source": [
        "# Apply Gaussian filter ksize = 3x3 sigma = 1\n",
        "ksize = 3\n",
        "sigma = 1\n",
        "image_blur = cv2.GaussianBlur(image_ocv_gray, ksize=(ksize,ksize), sigmaX=sigma,\n",
        "                              sigmaY=sigma)\n",
        "show_bef_aft(image_ocv_gray, image_blur)"
      ],
      "execution_count": null,
      "outputs": []
    },
    {
      "cell_type": "code",
      "metadata": {
        "id": "S-aU7N-DmH78"
      },
      "source": [
        "# Show difference\n",
        "show_bef_aft(image_ocv_gray, image_ocv_gray - image_blur)"
      ],
      "execution_count": null,
      "outputs": []
    },
    {
      "cell_type": "code",
      "metadata": {
        "id": "P-IeyiH7BEyD"
      },
      "source": [
        "# Apply Gaussian filter ksize = 15x15 sigma = 1\n",
        "ksize = 15\n",
        "sigma = 1\n",
        "image_blur = cv2.GaussianBlur(image_ocv_gray, ksize=(ksize,ksize), sigmaX=sigma,\n",
        "                              sigmaY=sigma)\n",
        "show_bef_aft(image_ocv_gray, image_blur)"
      ],
      "execution_count": null,
      "outputs": []
    },
    {
      "cell_type": "code",
      "metadata": {
        "id": "C-1_gGbgmLQW"
      },
      "source": [
        "# Show difference\n",
        "show_bef_aft(image_ocv_gray, image_ocv_gray - image_blur)"
      ],
      "execution_count": null,
      "outputs": []
    },
    {
      "cell_type": "code",
      "metadata": {
        "id": "L9G8buzKLg6P"
      },
      "source": [
        "# Apply Gaussian filter ksize = 15x15 sigma = 4\n",
        "ksize = 15\n",
        "sigma = 7\n",
        "image_blur = cv2.GaussianBlur(image_ocv_gray, ksize=(ksize,ksize), sigmaX=sigma,\n",
        "                              sigmaY=sigma)\n",
        "show_bef_aft(image_ocv_gray, image_blur)"
      ],
      "execution_count": null,
      "outputs": []
    },
    {
      "cell_type": "code",
      "metadata": {
        "id": "Qd5NVqxaPFNO"
      },
      "source": [
        "# Show difference\n",
        "show_bef_aft(image_ocv_gray, image_ocv_gray - image_blur)"
      ],
      "execution_count": null,
      "outputs": []
    },
    {
      "cell_type": "markdown",
      "metadata": {
        "id": "HwXdonuIJZpy"
      },
      "source": [
        "### Median Filter"
      ]
    },
    {
      "cell_type": "code",
      "metadata": {
        "id": "RVxSFJWjMAL3"
      },
      "source": [
        "# Function to add salt and pepper noise to the 6% of pixels of the image\n",
        "def add_salt_pepper(image):\n",
        "  random = np.random.randint(30, size=(image.shape[0],image.shape[1]))\n",
        "  image_salt_pepper = np.copy(image)\n",
        "  image_salt_pepper[random == 0] = 0\n",
        "  image_salt_pepper[random == 29] = 255\n",
        "  return image_salt_pepper"
      ],
      "execution_count": null,
      "outputs": []
    },
    {
      "cell_type": "code",
      "metadata": {
        "id": "SJhnEUqxMAB-"
      },
      "source": [
        "# Add salt and pepper noise\n",
        "image_salt_pepper = add_salt_pepper(image_ocv_gray)\n",
        "show_bef_aft(image_ocv_gray, image_salt_pepper)"
      ],
      "execution_count": null,
      "outputs": []
    },
    {
      "cell_type": "code",
      "metadata": {
        "id": "2-OmqaacOPkl"
      },
      "source": [
        "# Apply median filter\n",
        "image_blur = cv2.medianBlur(image_salt_pepper, ksize=5)\n",
        "show_bef_aft(image_salt_pepper, image_blur)"
      ],
      "execution_count": null,
      "outputs": []
    },
    {
      "cell_type": "code",
      "metadata": {
        "id": "ZkVlQsa-PKZQ"
      },
      "source": [
        "# Show difference\n",
        "show_bef_aft(image_ocv_gray, image_ocv_gray - image_blur)"
      ],
      "execution_count": null,
      "outputs": []
    },
    {
      "cell_type": "markdown",
      "metadata": {
        "id": "vTq3Xq0kI7aY"
      },
      "source": [
        "### Sobel & Laplacian Filters"
      ]
    },
    {
      "cell_type": "code",
      "metadata": {
        "id": "6K2rqwFCBElB"
      },
      "source": [
        "# Apply Sobel X filter\n",
        "sobelx = cv2.Sobel(image_ocv_gray, cv2.CV_64F, 1, 0, ksize=5)\n",
        "plt.imshow(np.abs(sobelx), cmap=\"gray\")"
      ],
      "execution_count": null,
      "outputs": []
    },
    {
      "cell_type": "code",
      "metadata": {
        "id": "bdfss6eYBEiA"
      },
      "source": [
        "# Apply sobel Y\n",
        "sobely = cv2.Sobel(image_ocv_gray, cv2.CV_64F, 0, 1, ksize=5)\n",
        "plt.imshow(np.abs(sobely), cmap=\"gray\")"
      ],
      "execution_count": null,
      "outputs": []
    },
    {
      "cell_type": "code",
      "metadata": {
        "id": "2H8S9dx5RJqz"
      },
      "source": [
        "# Apply sobel XY\n",
        "sobelxy = cv2.Sobel(image_ocv_gray, cv2.CV_64F, 1, 1, ksize=5)\n",
        "plt.imshow(np.abs(sobelxy), cmap=\"gray\")"
      ],
      "execution_count": null,
      "outputs": []
    },
    {
      "cell_type": "code",
      "metadata": {
        "id": "g7hfbZEiBEZV"
      },
      "source": [
        "laplacian = cv2.Laplacian(image_ocv_gray,cv2.CV_64F)\n",
        "laplacian[laplacian < 0] = 0\n",
        "plt.imshow(laplacian, cmap=\"gray\")"
      ],
      "execution_count": null,
      "outputs": []
    },
    {
      "cell_type": "markdown",
      "metadata": {
        "id": "uDr4iqgvqXUU"
      },
      "source": [
        "## 4.   Object identification"
      ]
    },
    {
      "cell_type": "markdown",
      "metadata": {
        "id": "XE2wIYM7XPpN"
      },
      "source": [
        "### Contour estimation"
      ]
    },
    {
      "cell_type": "code",
      "metadata": {
        "id": "svHPd3j-LeiV"
      },
      "source": [
        "# Load circles.png images\n",
        "circles = cv2.imread(\"circles.png\", 0)\n",
        "plt.imshow(circles, cmap=\"gray\")"
      ],
      "execution_count": null,
      "outputs": []
    },
    {
      "cell_type": "code",
      "metadata": {
        "id": "j1bfIA9RQsmI"
      },
      "source": [
        "# Explore diffent pixel intensities of the image\n",
        "print(np.unique(circles))"
      ],
      "execution_count": null,
      "outputs": []
    },
    {
      "cell_type": "code",
      "metadata": {
        "id": "ihUwNYntQLiZ"
      },
      "source": [
        "# Option 1: Binarize the image with thresholding\n",
        "_, circles_th = cv2.threshold(circles, 127, 255, 0)\n",
        "plt.imshow(circles_th, cmap=\"gray\")"
      ],
      "execution_count": null,
      "outputs": []
    },
    {
      "cell_type": "code",
      "metadata": {
        "id": "McWJPSmnQ0Y9"
      },
      "source": [
        "# Explore diffent pixel intensities of the image\n",
        "print(np.unique(circles_th))"
      ],
      "execution_count": null,
      "outputs": []
    },
    {
      "cell_type": "code",
      "metadata": {
        "id": "h2yhBNXNSNuK"
      },
      "source": [
        "# Find contours\n",
        "contours, hierarchy = cv2.findContours(circles_th, cv2.RETR_TREE, \n",
        "                                      cv2.CHAIN_APPROX_SIMPLE)"
      ],
      "execution_count": null,
      "outputs": []
    },
    {
      "cell_type": "code",
      "metadata": {
        "id": "dJA2CzUxS8hv"
      },
      "source": [
        "# Function to show contours\n",
        "def show_contours(img_shape, contours):\n",
        "  img = np.zeros((img_shape[0], img_shape[1], 3))\n",
        "  img = cv2.drawContours(img, contours, -1, (0,255,0), 3)\n",
        "  imshow_ocv_rgb(img)"
      ],
      "execution_count": null,
      "outputs": []
    },
    {
      "cell_type": "code",
      "metadata": {
        "id": "DqB0lNmPTP1J"
      },
      "source": [
        "# Show all contours\n",
        "show_contours(circles_th.shape, contours)"
      ],
      "execution_count": null,
      "outputs": []
    },
    {
      "cell_type": "code",
      "metadata": {
        "id": "7OGfjdveUjPj"
      },
      "source": [
        "# Show first contour\n",
        "show_contours(circles_th.shape, [contours[0]])"
      ],
      "execution_count": null,
      "outputs": []
    },
    {
      "cell_type": "code",
      "metadata": {
        "id": "pv-_8567UpXz"
      },
      "source": [
        "# Show second contour\n",
        "show_contours(circles_th.shape, [contours[1]])"
      ],
      "execution_count": null,
      "outputs": []
    },
    {
      "cell_type": "markdown",
      "source": [],
      "metadata": {
        "id": "68A_aCfQ3saG"
      }
    },
    {
      "cell_type": "code",
      "metadata": {
        "id": "HguFnsxMWATb"
      },
      "source": [
        "# Function to show contours over the original image\n",
        "def overdraw_contours(img, contours):\n",
        "  img_bgr = cv2.cvtColor(img, cv2.COLOR_GRAY2BGR)\n",
        "  img_bgr = cv2.drawContours(img_bgr, contours, -1, (0,255,0), 3)\n",
        "  imshow_ocv_rgb(img_bgr)"
      ],
      "execution_count": null,
      "outputs": []
    },
    {
      "cell_type": "code",
      "metadata": {
        "id": "juMxCGgGWVa0"
      },
      "source": [
        "# Show contours over original image\n",
        "overdraw_contours(circles, contours)"
      ],
      "execution_count": null,
      "outputs": []
    },
    {
      "cell_type": "markdown",
      "metadata": {
        "id": "ZrKiDU9NXcFE"
      },
      "source": [
        "### Contour characteristcs"
      ]
    },
    {
      "cell_type": "code",
      "metadata": {
        "id": "6AP_fnxGXnV0"
      },
      "source": [
        "contour = contours[0]"
      ],
      "execution_count": null,
      "outputs": []
    },
    {
      "cell_type": "code",
      "metadata": {
        "id": "9MhEr2HzXaHc"
      },
      "source": [
        "# Conotour area\n",
        "area = cv2.contourArea(contour)\n",
        "print(\"Area of the contour in pixels:\", area)"
      ],
      "execution_count": null,
      "outputs": []
    },
    {
      "cell_type": "code",
      "metadata": {
        "id": "B0cF0QBcnPAi"
      },
      "source": [
        "# Contour perimeter\n",
        "perimeter = cv2.arcLength(contour, closed=True)\n",
        "print(\"Perimeter of the contour in pixels:\", perimeter)"
      ],
      "execution_count": null,
      "outputs": []
    },
    {
      "cell_type": "code",
      "metadata": {
        "id": "xL0q3Fh8YX_A"
      },
      "source": [
        "# Bounding box\n",
        "x,y,w,h = cv2.boundingRect(contour)"
      ],
      "execution_count": null,
      "outputs": []
    },
    {
      "cell_type": "code",
      "metadata": {
        "id": "CLEOtPujZUeW"
      },
      "source": [
        "# Function to show a bounding box over the original image\n",
        "def overdraw_bbox(img, x, y, w, h):\n",
        "  img_bgr = cv2.cvtColor(img, cv2.COLOR_GRAY2BGR)\n",
        "  img_bgr = cv2.rectangle(img_bgr,(x,y),(x+w,y+h),(0,255,0),2)\n",
        "  imshow_ocv_rgb(img_bgr)"
      ],
      "execution_count": null,
      "outputs": []
    },
    {
      "cell_type": "code",
      "metadata": {
        "id": "GJ1ER07dZyq8"
      },
      "source": [
        "# Show bounding box\n",
        "overdraw_bbox(circles, x, y, w, h)"
      ],
      "execution_count": null,
      "outputs": []
    },
    {
      "cell_type": "markdown",
      "metadata": {
        "id": "mYXGnhb2aPHS"
      },
      "source": [
        "# Exercise 1: Apply the concepts learnt in sections 1-4 to circles.png "
      ]
    },
    {
      "cell_type": "code",
      "metadata": {
        "id": "nS-1L6ftz48f"
      },
      "source": [],
      "execution_count": null,
      "outputs": []
    },
    {
      "cell_type": "markdown",
      "metadata": {
        "id": "OGhcetXqauRh"
      },
      "source": [
        "# Exercise 2: Apply the concepts learnt in section 5 to lena.png"
      ]
    },
    {
      "cell_type": "code",
      "metadata": {
        "id": "WvEN9HSEz5mm"
      },
      "source": [],
      "execution_count": null,
      "outputs": []
    },
    {
      "cell_type": "markdown",
      "metadata": {
        "id": "4SlYpNmEbBGr"
      },
      "source": [
        "# Exercise 3: Develop a program to remove automatically the smallest circle in circles.png"
      ]
    },
    {
      "cell_type": "code",
      "metadata": {
        "id": "go74GFNNbCDo"
      },
      "source": [],
      "execution_count": null,
      "outputs": []
    }
  ]
}