{
  "nbformat": 4,
  "nbformat_minor": 0,
  "metadata": {
    "colab": {
      "provenance": []
    },
    "kernelspec": {
      "name": "python3",
      "display_name": "Python 3"
    },
    "language_info": {
      "name": "python"
    },
    "accelerator": "GPU",
    "gpuClass": "standard"
  },
  "cells": [
    {
      "cell_type": "markdown",
      "source": [
        "# Workshop 3: Detectron2 for object detection\n",
        "\n",
        "<img src=\"https://dl.fbaipublicfiles.com/detectron2/Detectron2-Logo-Horz.png\" width=\"500\">\n",
        "\n",
        "In this workshop we will go through some basics usage of detectron2 for object detection"
      ],
      "metadata": {
        "id": "2cPFER0L9oPq"
      }
    },
    {
      "cell_type": "markdown",
      "source": [
        "# 0. Download the dataset"
      ],
      "metadata": {
        "id": "hVjgUbf89826"
      }
    },
    {
      "cell_type": "markdown",
      "source": [
        "1.   Go to [Link to Data](https://public.roboflow.com/object-detection/wildfire-smoke/1)\n",
        "2.   Create an account\n",
        "3.   Select the Terminal code option\n",
        "4.   Copy and paste the code below to download the data\n",
        "\n",
        "\n"
      ],
      "metadata": {
        "id": "5J1uC6L4PTbl"
      }
    },
    {
      "cell_type": "code",
      "source": [],
      "metadata": {
        "id": "VzlhPwPuOro7"
      },
      "execution_count": null,
      "outputs": []
    },
    {
      "cell_type": "code",
      "source": [
        "!ls"
      ],
      "metadata": {
        "id": "mocI4O8nQ8K5"
      },
      "execution_count": null,
      "outputs": []
    },
    {
      "cell_type": "markdown",
      "source": [
        "# 1. Explore data"
      ],
      "metadata": {
        "id": "6YOkC9zKR8Ni"
      }
    },
    {
      "cell_type": "markdown",
      "source": [
        "# 2. Import data on Detectron2"
      ],
      "metadata": {
        "id": "6_XaF7o-VROA"
      }
    },
    {
      "cell_type": "markdown",
      "source": [
        "# 3. SET MODEL CONFIGURATION"
      ],
      "metadata": {
        "id": "e-q1qG4u_uTG"
      }
    },
    {
      "cell_type": "markdown",
      "source": [
        "# 4. Train model"
      ],
      "metadata": {
        "id": "vdafAdvKE_Pt"
      }
    },
    {
      "cell_type": "markdown",
      "source": [
        "# 5. Evaluate in test set"
      ],
      "metadata": {
        "id": "p3k9phjXFDxJ"
      }
    },
    {
      "cell_type": "code",
      "source": [],
      "metadata": {
        "id": "DUj_px8PY6l3"
      },
      "execution_count": null,
      "outputs": []
    }
  ]
}