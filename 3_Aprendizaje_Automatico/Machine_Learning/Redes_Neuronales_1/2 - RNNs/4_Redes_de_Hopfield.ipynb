{
  "nbformat": 4,
  "nbformat_minor": 0,
  "metadata": {
    "colab": {
      "provenance": [],
      "machine_shape": "hm",
      "gpuType": "T4"
    },
    "kernelspec": {
      "name": "python3",
      "display_name": "Python 3"
    },
    "gpuClass": "standard"
  },
  "cells": [
    {
      "cell_type": "markdown",
      "metadata": {
        "id": "ar8ejBhSZGTz"
      },
      "source": [
        "# Redes de Hopfield\n",
        "\n",
        "Tras haber visto la teoría básica de las Redes Neuronales Recurrentes de Hopfield, vamos a ver un ejemplo que lo deje más claro.\n",
        "\n",
        "<small>Fuente: [Hopfield Networks is all you Need](https://ml-jku.github.io/hopfield-layers/)</small>"
      ]
    },
    {
      "cell_type": "markdown",
      "metadata": {
        "id": "3lliD50zadW4"
      },
      "source": [
        "Primero cargamos el conjunto de datos MNIST estándar y creamos un lote grande (no haremos ningún entrenamiento, esto es sólo para poder probar un gran número de patrones almacenados)."
      ]
    },
    {
      "cell_type": "markdown",
      "source": [
        "Posteriormente crearemos una función llamada `load_mnist` que será la encargada de generar los "
      ],
      "metadata": {
        "id": "1KV3CqMBRUgF"
      }
    },
    {
      "cell_type": "code",
      "source": [
        "(x_train, y_train), (x_test, y_test) = tf.keras.datasets.mnist.load_data()\n",
        "assert x_train.shape == (60000, 28, 28)\n",
        "assert x_test.shape == (10000, 28, 28)\n",
        "assert y_train.shape == (60000,)\n",
        "assert y_test.shape == (10000,)\n"
      ],
      "metadata": {
        "id": "fMYkpcCcR-WO"
      },
      "execution_count": null,
      "outputs": []
    },
    {
      "cell_type": "code",
      "source": [],
      "metadata": {
        "id": "0I73pTxzRRSi"
      },
      "execution_count": null,
      "outputs": []
    },
    {
      "cell_type": "markdown",
      "metadata": {
        "id": "QR1iMn4Wajo4"
      },
      "source": [
        "Las redes de Hopfield clásicas sólo funcionan con valores binarios, por lo que definimos funciones de utilidad para binarizar una imagen. \n",
        "\n",
        "A continuación, queremos probar la capacidad de recuperación de la red cuando se enmascara la mitad de una imagen almacenada. Un detalle crucial es que las imágenes *deben* binarizarse a [-1,1] y *no* a [0,1]. \n",
        "\n",
        "¡¡¡La binarización [0,1] hará que todo falle!!!"
      ]
    },
    {
      "cell_type": "code",
      "metadata": {
        "id": "4rDCZFtr1vbh"
      },
      "source": [
        "def binarize(img):\n",
        "  i = img.astype(np.float32)\n",
        "  i[img > 0] = -1\n",
        "  i[img <=0] = 1\n",
        "  return i\n",
        "\n",
        "def zero_bottom_half(img):\n",
        "  i = img.astype(np.float32)\n",
        "  H,W = img.shape\n",
        "  i[H//2:H,:] = -1\n",
        "  return i"
      ],
      "execution_count": null,
      "outputs": []
    },
    {
      "cell_type": "markdown",
      "metadata": {
        "id": "OtA1HAwWbEM5"
      },
      "source": [
        "Veamos si funcionan correctamente:"
      ]
    },
    {
      "cell_type": "code",
      "metadata": {
        "id": "R94KNqCibKmS",
        "outputId": "ae3b61ca-23b4-44a4-e244-1c3a6616af0d",
        "colab": {
          "base_uri": "https://localhost:8080/",
          "height": 308
        }
      },
      "source": [
        "img = x_train[0]\n",
        "digit = binarize(img)\n",
        "halved_digit = zero_bottom_half(digit)\n",
        "\n",
        "plt.subplot(1,2,1)\n",
        "plt.title(\"Imagen completa\")\n",
        "plt.imshow(digit)\n",
        "\n",
        "plt.subplot(1,2,2)\n",
        "plt.title(\"Imagen con la mitad enmascarada\")\n",
        "plt.imshow(halved_digit)\n",
        "plt.show()"
      ],
      "execution_count": null,
      "outputs": [
        {
          "output_type": "display_data",
          "data": {
            "text/plain": [
              "<Figure size 640x480 with 2 Axes>"
            ],
            "image/png": "[encoded data removed]"
          },
          "metadata": {}
        }
      ]
    },
    {
      "cell_type": "markdown",
      "metadata": {
        "id": "f7pBE5hMbtcu"
      },
      "source": [
        "Por último, llegamos a la red de Hopfield clásica, que puede recuperar un patrón de su lista de patrones almacenados a partir de una pista parcial (una imagen medio enmascarada). \n",
        "\n",
        "Dado un vector $\\mathbf{X}$ de patrones almacenados, la red Hopfield los almacena en una matriz de pesos $\\mathbf{W} = \\mathbf{X}\\mathbf{X}^T$.\n",
        "\n",
        "Para recuperar un elemento con una \"*sonda*\" $z$ (imagen enmascarada), aplicamos la regla de actualización de Hopfield $z^{t+1} = \\mathit{sign}(\\mathbf{W}z - b)$, donde $b$ es un vector de sesgos que aquí ignoramos (ponemos a 0).\n",
        "\n",
        "Se puede demostrar directamente que esta regla de actualización es el gradiente de la función de energía de Hopfield $\\mathbf{E} = -\\frac{1}{2}z^T \\mathbf{w}z + z^Tb$.\n",
        "\n",
        "A continuación demostramos que la recuperación funciona perfectamente cuando sólo se almacena un único patrón."
      ]
    },
    {
      "cell_type": "code",
      "source": [
        "digit.shape"
      ],
      "metadata": {
        "colab": {
          "base_uri": "https://localhost:8080/"
        },
        "id": "GSSlWi_lTbQv",
        "outputId": "7cb8ee74-2d99-42e4-9435-b765b3d8227f"
      },
      "execution_count": null,
      "outputs": [
        {
          "output_type": "execute_result",
          "data": {
            "text/plain": [
              "(28, 28)"
            ]
          },
          "metadata": {},
          "execution_count": 53
        }
      ]
    },
    {
      "cell_type": "markdown",
      "source": [
        "Es necesario que la reformateemos a vector:"
      ],
      "metadata": {
        "id": "s4nigFPkUbzt"
      }
    },
    {
      "cell_type": "code",
      "source": [
        "digit = digit.reshape((28*28, 1))\n",
        "digit.shape"
      ],
      "metadata": {
        "colab": {
          "base_uri": "https://localhost:8080/"
        },
        "id": "Y7w_ByGaTmt0",
        "outputId": "81f35f6b-80b0-44ae-99aa-bfbb3e114cc7"
      },
      "execution_count": null,
      "outputs": [
        {
          "output_type": "execute_result",
          "data": {
            "text/plain": [
              "(784, 1)"
            ]
          },
          "metadata": {},
          "execution_count": 54
        }
      ]
    },
    {
      "cell_type": "code",
      "metadata": {
        "id": "nS4XPdff3eQM"
      },
      "source": [
        "# Guardamos un único patrón en la matriz de pesos\n",
        "# es lo mismo que W = np.matmul(digit, digit.T)\n",
        "W = digit @ digit.T"
      ],
      "execution_count": null,
      "outputs": []
    },
    {
      "cell_type": "markdown",
      "source": [
        "Los pesos de la red son:"
      ],
      "metadata": {
        "id": "QYCoKRVCUeoG"
      }
    },
    {
      "cell_type": "code",
      "source": [
        "W.shape"
      ],
      "metadata": {
        "id": "C_eG0O5IT8ry"
      },
      "execution_count": null,
      "outputs": []
    },
    {
      "cell_type": "code",
      "source": [
        "W"
      ],
      "metadata": {
        "id": "C1BVZWeLWp1t"
      },
      "execution_count": null,
      "outputs": []
    },
    {
      "cell_type": "code",
      "source": [
        "plt.imshow(W)"
      ],
      "metadata": {
        "id": "qlHikSEPVqVC"
      },
      "execution_count": null,
      "outputs": []
    },
    {
      "cell_type": "markdown",
      "source": [
        "Ahora podemos emplear la \"sonda\" (imagen enmascarada) para recuperar la imagen original:"
      ],
      "metadata": {
        "id": "GL8Ob1D0Uix7"
      }
    },
    {
      "cell_type": "code",
      "source": [
        "halved_digit = halved_digit.reshape((28*28, 1))\n",
        "halved_digit.shape"
      ],
      "metadata": {
        "id": "aRMEKRxbWHT-"
      },
      "execution_count": null,
      "outputs": []
    },
    {
      "cell_type": "code",
      "source": [
        "# Empleamos la \"sonda\" (imagen enmascarada) para recuperar la imagen original\n",
        "out = binarize(W @ halved_digit)"
      ],
      "metadata": {
        "id": "SaDFALbUTXQX"
      },
      "execution_count": null,
      "outputs": []
    },
    {
      "cell_type": "code",
      "source": [
        "\n",
        "# Y visualizamos\n",
        "plt.subplot(1,3,1)\n",
        "plt.title(\"Dígito enmascarado\")\n",
        "plt.imshow(halved_digit.reshape(28,28))\n",
        "plt.subplot(1,3,2)\n",
        "plt.title(\"Salida de la red\")\n",
        "plt.imshow(out.reshape(28,28))\n",
        "plt.show()\n",
        "plt.subplot(1,3,3)\n",
        "plt.title(\"Dígito real\")\n",
        "plt.imshow(digit.reshape(28,28))\n",
        "plt.show()"
      ],
      "metadata": {
        "id": "9QXq0Eb7WUy2"
      },
      "execution_count": null,
      "outputs": []
    },
    {
      "cell_type": "markdown",
      "source": [
        "Y si enmascaramos otra región?"
      ],
      "metadata": {
        "id": "PUfodi0nLMI4"
      }
    },
    {
      "cell_type": "code",
      "source": [
        "def zero_middle_half(img):\n",
        "    i = img.astype(np.float32)\n",
        "    H,W = img.shape\n",
        "    i[H//3:-H//3,:] = -1\n",
        "    return i\n",
        "\n",
        "img = x_train[0]\n",
        "digit = binarize(img)\n",
        "halved_digit_middle = zero_middle_half(digit)\n",
        "\n",
        "plt.subplot(1,2,1)\n",
        "plt.title(\"Imagen completa\")\n",
        "plt.imshow(digit)\n",
        "\n",
        "plt.subplot(1,2,2)\n",
        "plt.title(\"Imagen con la mitad enmascarada\")\n",
        "plt.imshow(halved_digit_middle)\n",
        "plt.show()\n",
        "\n",
        "halved_digit_middle = halved_digit_middle.reshape((28*28, 1))\n",
        "\n",
        "# Empleamos la \"sonda\" (imagen enmascarada) para recuperar la imagen original\n",
        "out = binarize(W @ halved_digit_middle)\n",
        "\n",
        "# Y visualizamos\n",
        "plt.subplot(1,3,1)\n",
        "plt.title(\"Dígito enmascarado\")\n",
        "plt.imshow(halved_digit_middle.reshape(28,28))\n",
        "plt.subplot(1,3,2)\n",
        "plt.title(\"Salida de la red\")\n",
        "plt.imshow(out.reshape(28,28))\n",
        "plt.show()\n",
        "plt.subplot(1,3,3)\n",
        "plt.title(\"Dígito real\")\n",
        "plt.imshow(digit.reshape(28,28))\n",
        "plt.show()"
      ],
      "metadata": {
        "id": "i0CXuG-XLOB4"
      },
      "execution_count": null,
      "outputs": []
    },
    {
      "cell_type": "markdown",
      "source": [
        "¿Y si lo que no tenemos es el comienzo?"
      ],
      "metadata": {
        "id": "Ph0V6qH_MFLn"
      }
    },
    {
      "cell_type": "code",
      "source": [
        "def zero_top_half(img):\n",
        "    i = img.astype(np.float32)\n",
        "    H,W = img.shape\n",
        "    i[:H//2,:] = -1\n",
        "    return i\n",
        "\n",
        "img = x_train[0]\n",
        "digit = binarize(img)\n",
        "halved_digit_top = zero_top_half(digit)\n",
        "\n",
        "plt.subplot(1,2,1)\n",
        "plt.title(\"Imagen completa\")\n",
        "plt.imshow(digit)\n",
        "\n",
        "plt.subplot(1,2,2)\n",
        "plt.title(\"Imagen con la mitad enmascarada\")\n",
        "plt.imshow(halved_digit_top)\n",
        "plt.show()\n",
        "\n",
        "halved_digit_top = halved_digit_top.reshape((28*28, 1))\n",
        "\n",
        "# Empleamos la \"sonda\" (imagen enmascarada) para recuperar la imagen original\n",
        "out = binarize(W @ halved_digit_top)\n",
        "\n",
        "# Y visualizamos\n",
        "plt.subplot(1,3,1)\n",
        "plt.title(\"Dígito enmascarado\")\n",
        "plt.imshow(halved_digit_top.reshape(28,28))\n",
        "plt.subplot(1,3,2)\n",
        "plt.title(\"Salida de la red\")\n",
        "plt.imshow(out.reshape(28,28))\n",
        "plt.show()\n",
        "plt.subplot(1,3,3)\n",
        "plt.title(\"Dígito real\")\n",
        "plt.imshow(digit.reshape(28,28))\n",
        "plt.show()"
      ],
      "metadata": {
        "id": "b7hpoXsFMIFJ"
      },
      "execution_count": null,
      "outputs": []
    },
    {
      "cell_type": "markdown",
      "source": [
        "**¡Maravilloso!**"
      ],
      "metadata": {
        "id": "QwbcxIooMUzs"
      }
    },
    {
      "cell_type": "markdown",
      "metadata": {
        "id": "DkEGtxmXsrF6"
      },
      "source": [
        "Probemos ahora la capacidad de recuperación de la red cuando se almacenan varios dígitos. \n",
        "\n",
        "Cuando se almacenan 3 dígitos, vemos que la recuperación es perfecta. \n",
        "\n",
        "Nota: Las reconstrucciones suelen estar invertidas, pero es el comportamiento esperado, ya que no tenemos sesgos y la función de energía es simétrica."
      ]
    },
    {
      "cell_type": "code",
      "metadata": {
        "id": "7L_TNzA17BFN"
      },
      "source": [
        "def store_retrieve_N_images(imgs, N):\n",
        "  \n",
        "  # construimos la matriz de pesos para almacenar N imágenes\n",
        "  W = np.zeros((784,784))\n",
        "  for i in range(N):\n",
        "    digit = binarize(imgs[i,:].reshape(784,1))\n",
        "    W += digit @ digit.T\n",
        "\n",
        "  # tras haber guardado N imágenes, tratamos de recuperarlas\n",
        "  for i in range(N):\n",
        "    digit = binarize(imgs[i,:]).reshape(28,28)\n",
        "    halved_digit = zero_bottom_half(digit).reshape(784,1)\n",
        "    out = binarize(W @ halved_digit)\n",
        "    plt.subplot(1,2,1)\n",
        "    plt.title(\"Imagen original\")\n",
        "    plt.imshow(digit)\n",
        "    plt.subplot(1,2,2)\n",
        "    plt.title(\"Imagen reconstruida\")\n",
        "    plt.imshow(out.reshape(28,28))\n",
        "    plt.show()\n",
        "\n",
        "store_retrieve_N_images(x_train, 3)"
      ],
      "execution_count": null,
      "outputs": []
    },
    {
      "cell_type": "markdown",
      "metadata": {
        "id": "nBXSvY6ZtaQ2"
      },
      "source": [
        "Sin embargo, podemos comprobar que conforme aumentamos el número de imágenes a guardar (\"patrones\" que la red reconoce), la reconstrucción comienza a fallar:"
      ]
    },
    {
      "cell_type": "code",
      "metadata": {
        "id": "PiLBiY8cteMr"
      },
      "source": [
        "store_retrieve_N_images(x_train, 5)"
      ],
      "execution_count": null,
      "outputs": []
    },
    {
      "cell_type": "code",
      "source": [
        "store_retrieve_N_images(x_train, 10)"
      ],
      "metadata": {
        "id": "KRwNpdgVX0xF"
      },
      "execution_count": null,
      "outputs": []
    },
    {
      "cell_type": "markdown",
      "metadata": {
        "id": "C8OLg1kytopF"
      },
      "source": [
        "Realmente, este problema no se debe a la capacidad de almacenamiento de la red, que es muy superior a 10, sino a que las entradas están correlacionadas."
      ]
    },
    {
      "cell_type": "markdown",
      "metadata": {
        "id": "FXo6wzwMt1eQ"
      },
      "source": [
        "Para paliar este problema, podemos utilizar la extensión de la red de Hopfield que introdujeron Krotov y Hopfield (2016) y Demircigil (2017), que permite una memoria asociativa densa. \n",
        "\n",
        "<small>Explicación matemática:</small>\n",
        "\n",
        "<small>Estas redes tienen la función de energía $\\mathbf{E} = -exp(\\beta^{-1} log (\\sum_i exp(\\beta x_i^T z))$. Demircigil demostró que esta función de energía puede optimizarse con una regla de aprendizaje:\n",
        "$z^{t+1}[l] = -\\mathit{sign}(\\mathbf{E}[z[l]^+] + \\mathbf{E}[z[l]^-])$</small>\n",
        "\n",
        "<small>Donde $z[l]^+$ es z donde z[l] = +1. En efecto, esta regla de actualización enumera explícitamente todos los posibles cambios en la sonda z, y determina si éstos aumentan o disminuyen la energía. Si disminuyen la energía, se mantienen en la salida. Esta regla es, en efecto, una búsqueda combinatoria de todos los cambios posibles en z para encontrar el que más minimiza la energía. </small>\n",
        "\n",
        "Es importante destacar que en esta red los patrones almacenados ya no se guardan en una única matriz de pesos. En su lugar, cada patrón se compara en serie con la sonda y, a continuación, se suman todos los patrones."
      ]
    },
    {
      "cell_type": "code",
      "metadata": {
        "id": "PoaUOFeeXbR1"
      },
      "source": [
        "def demircigil_update_rule(z, xs):\n",
        "  out = np.zeros((len(z),1))\n",
        "  # iteramos sobre cada elemento de z\n",
        "  for i in range(len(z)):\n",
        "    # inicializamos los acumuladores E_pos y E_neg\n",
        "    E_pos = 0\n",
        "    E_neg = 0\n",
        "    # hacemos copias para no transformar el array original\n",
        "    z_pos = z.copy()\n",
        "    z_neg = z.copy()\n",
        "    # usamos tanto z[l]+ and z[l]-\n",
        "    z_pos[i] = 1\n",
        "    z_neg[i] = -1\n",
        "    # para cada patrón almacenado en xs\n",
        "    for x in xs:\n",
        "      # calculamos las energías positivas y negativas\n",
        "      E_plus = x.T @ z_pos\n",
        "      E_minus = x.T @ z_neg\n",
        "      # y acumulamos sus valores tras aplicarles la exponencial, como en la fórmula\n",
        "      E_pos += np.exp(E_plus/10)\n",
        "      E_neg += np.exp(E_minus/10)\n",
        "    # si la energía positiva es mayor que la negativa, hacemos un \"flip\" del valor\n",
        "    if E_pos > E_neg:\n",
        "      out[i] = 1\n",
        "    else:\n",
        "      out[i] = -1\n",
        "  return out"
      ],
      "execution_count": null,
      "outputs": []
    },
    {
      "cell_type": "markdown",
      "source": [
        "Probemos si esta regla de actualización funciona con unos pocos patrones almacenados, superando así a la red Hopfield clásica en capacidad de almacenamiento de memoria."
      ],
      "metadata": {
        "id": "90am6qPmZM6b"
      }
    },
    {
      "cell_type": "code",
      "source": [
        "# almacenamos 5 patrones en la memoria de la red\n",
        "N = 5\n",
        "xs = [binarize(x_train[i].reshape(784,1)) for i in range(N)]\n",
        "np.array(xs).shape"
      ],
      "metadata": {
        "id": "EfLAfd4LZ4hj"
      },
      "execution_count": null,
      "outputs": []
    },
    {
      "cell_type": "code",
      "source": [
        "# mostramos el dígito enmascarado\n",
        "plt.imshow(halved_digit.reshape(28, 28))"
      ],
      "metadata": {
        "id": "d7z3n8XeaGxv"
      },
      "execution_count": null,
      "outputs": []
    },
    {
      "cell_type": "code",
      "source": [
        "# se lo pasamos a la red, que en esta ocasion tiene N patrones en memoria almacenados\n",
        "out = demircigil_update_rule(halved_digit, xs)"
      ],
      "metadata": {
        "id": "fQDFj1WNZwFk"
      },
      "execution_count": null,
      "outputs": []
    },
    {
      "cell_type": "code",
      "source": [
        "# la salida es del tamaño correcto\n",
        "out.shape"
      ],
      "metadata": {
        "id": "fxwbETeEaU-F"
      },
      "execution_count": null,
      "outputs": []
    },
    {
      "cell_type": "code",
      "source": [
        "# visualizamos la salida\n",
        "plt.imshow(out.reshape(28, 28))"
      ],
      "metadata": {
        "id": "njAJhW_waVvC"
      },
      "execution_count": null,
      "outputs": []
    },
    {
      "cell_type": "markdown",
      "source": [
        "Vamos a crear una función ahora que nos permita visualizar N patrones:"
      ],
      "metadata": {
        "id": "r_yIUFaFaltY"
      }
    },
    {
      "cell_type": "code",
      "metadata": {
        "id": "PvwJGNHJwKqC"
      },
      "source": [
        "def retrieve_store_demircigil(imgs, N, break_val=-1):\n",
        "\n",
        "  xs = [binarize(imgs[i,:].reshape(784,1)) for i in range(N)]\n",
        "  \n",
        "  for j in range(N):\n",
        "    # para evitar mostrar muchas imágenes para patrones almacenados que sean grandes\n",
        "    if break_val >0:\n",
        "      if j > break_val:\n",
        "        break\n",
        "    \n",
        "    # enmascaramos la imagen\n",
        "    halved_digit = zero_bottom_half(xs[j]).reshape(784,1)\n",
        "    \n",
        "    # la reconstruimos usando la regla de Demircigil\n",
        "    out = demircigil_update_rule(halved_digit, xs)\n",
        "    \n",
        "    # mostramos los resultados\n",
        "    fig, axs = plt.subplots(nrows=1, ncols=3, figsize=(12,4))\n",
        "    \n",
        "    imgs = [xs[j], halved_digit, out]\n",
        "    titles = [\"Original\", \"Masked\", \"Reconstruction\"]\n",
        "    for i, ax in enumerate(axs.flatten()):\n",
        "      plt.sca(ax)\n",
        "      plt.imshow(imgs[i].reshape(28,28))\n",
        "      plt.title(titles[i])\n",
        "    plt.show()"
      ],
      "execution_count": null,
      "outputs": []
    },
    {
      "cell_type": "code",
      "source": [
        "retrieve_store_demircigil(x_train, 10)"
      ],
      "metadata": {
        "id": "ycRr9ln-aqBN"
      },
      "execution_count": null,
      "outputs": []
    },
    {
      "cell_type": "code",
      "source": [],
      "metadata": {
        "id": "NktuRWCtaq51"
      },
      "execution_count": null,
      "outputs": []
    },
    {
      "cell_type": "code",
      "source": [],
      "metadata": {
        "id": "8BXVkN9gZMpe"
      },
      "execution_count": null,
      "outputs": []
    },
    {
      "cell_type": "markdown",
      "metadata": {
        "id": "pG3tqVHrwubz"
      },
      "source": [
        "Aunque funciona, esta regla de actualización no es buena por varias razones. \n",
        "\n",
        "- En primer lugar, porque estamos comparando explícitamente permutaciones de z, es difícil de vectorizar, y por lo tanto es lento. \n",
        "- En segundo lugar, una implementación *naive* es numéricamente inestable debido a la exponenciación de las energías. Esto a menudo resulta en *nans* o infinitos. \n",
        "\n",
        "De hecho, si os fijáis, para conseguir que funcione tuve dividimos las energías calculadas por una constante arbitraria de 10. Sin embargo, probablemente hay mejores formas de hacerlo."
      ]
    },
    {
      "cell_type": "markdown",
      "metadata": {
        "id": "XJXza7bZzgom"
      },
      "source": [
        "Probemos si esta regla de actualización funciona con unos pocos patrones almacenados, superando así a la red Hopfield clásica en capacidad de almacenamiento de memoria.\n",
        "\n",
        "Esta red puede almacenar 10 patrones sin degradación en la terminación de patrones, a diferencia de las redes Hopfield clásicas. \n",
        "\n",
        "Sin embargo, la recuperación perfecta sigue estando limitada a un nivel muy inferior a su capacidad teórica debido a la correlación de los patrones. \n",
        "\n",
        "Por ejemplo, hay algunas recuperaciones incorrectas con 100 patrones."
      ]
    },
    {
      "cell_type": "code",
      "metadata": {
        "id": "U4fz52zLzxHT"
      },
      "source": [
        "retrieve_store_demircigil(x_train, 100, 5)"
      ],
      "execution_count": null,
      "outputs": []
    },
    {
      "cell_type": "markdown",
      "source": [
        "Esto es solo un aperitivo de lo que se puede hacer con redes de Hopfield. De hecho, desde 2021 y la aparición del paper \"[Hopfield Networks is all you need](https://https://ml-jku.github.io/hopfield-layers/)\", estas redes son mucho más capaces.\n",
        "\n",
        "Por ejemplo, aquí tenéis algunas aplicaciones de las redes de Hopfield en el mundo real:\n",
        "\n",
        "1. **Recuperación de patrones**: son especialmente útiles para almacenar y recuperar patrones. Pueden utilizarse para reconocer y recordar imágenes, letras, números u otros tipos de datos. Por ejemplo, se han utilizado para reconocimiento de caracteres en OCR (Optical Character Recognition) y para el reconocimiento de rostros en sistemas de seguridad.\n",
        "\n",
        "2. **Optimización combinatoria**: pueden utilizarse para resolver problemas de optimización combinatoria, donde se busca encontrar la mejor solución entre muchas posibles combinaciones. Por ejemplo, se han aplicado en la planificación de rutas, asignación de recursos, diseño de circuitos y programación de horarios.\n",
        "\n",
        "3. **Reconocimiento de patrones y clasificación**: pueden utilizarse para clasificar y reconocer patrones en conjuntos de datos. Por ejemplo, en el campo de la bioinformática, se han utilizado para clasificar secuencias de ADN y proteínas.\n",
        "\n",
        "4. **Memoria asociativa**: pueden funcionar como sistemas de memoria asociativa, donde se puede recuperar información a partir de una clave o fragmento de información relacionado. Esto ha encontrado aplicaciones en sistemas de recomendación, recuperación de información y filtrado colaborativo.\n",
        "\n",
        "5. Modelado y simulación: pueden utilizarse para modelar y simular sistemas complejos. Se han utilizado en campos como la física, la biología, la economía y la psicología para estudiar y comprender fenómenos complejos.\n",
        "\n",
        "Estas son solo algunas aplicaciones de las redes de Hopfield en el mundo real. Su capacidad para almacenar y recuperar información, así como su robustez ante ruido y daños parciales, las hace útiles en una variedad de áreas."
      ],
      "metadata": {
        "id": "B955FtVsbUK1"
      }
    },
    {
      "cell_type": "code",
      "source": [],
      "metadata": {
        "id": "TMuh4A60b_Fr"
      },
      "execution_count": null,
      "outputs": []
    }
  ]
}