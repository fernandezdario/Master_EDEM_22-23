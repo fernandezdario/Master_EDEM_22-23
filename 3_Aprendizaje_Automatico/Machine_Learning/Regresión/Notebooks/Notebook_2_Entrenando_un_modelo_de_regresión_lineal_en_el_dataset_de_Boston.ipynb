{
 "cells": [
  {
   "cell_type": "markdown",
   "metadata": {
    "id": "mOGz2_pF9-Bj"
   },
   "source": [
    "# Predicción del precio de la Vivienda (Una variable)\n",
    "\n",
    "En el siguiente notebook utilizarás datos sobre la venta de casas en Seattle, para predecir los precios de las casas utilizando una regresión lineal simple (Una sola característica). Tendrás que hacer:\n",
    "\n",
    "\n",
    "\n",
    "*   Escribir una función en python que devuelva los parámetros de la regresión lineal simple\n",
    "*   Escribir una función para hacer predicciones (salida) dado una variable de entrada.\n",
    "*  Utilizando la regresión, predecir la entrada dada la salida.\n",
    "*  Comparar dos modelos para predecir el precio de la vivienda\n",
    "\n",
    "El dataset puedes encontrarlo aquí:\n",
    "\n",
    "https://drive.google.com/file/d/1Bx5evxrcxmLJnliTfbS0z2QmhopbboUG/view?usp=share_link\n",
    "\n",
    "Archivos:\n",
    "\n",
    "* **kc_house_data.csv**\n",
    "* **kc_house_train_data.csv**\n",
    "* **kc_house_test_data.csv**\n",
    "\n",
    "\n",
    "\n",
    "\n"
   ]
  },
  {
   "cell_type": "code",
   "execution_count": 4,
   "metadata": {
    "id": "F4latCLyjoBE"
   },
   "outputs": [],
   "source": [
    "#Importamos las librearías que vamos a necesitar\n",
    "import pandas as pd\n",
    "from sklearn.linear_model import LinearRegression\n",
    "import numpy as np"
   ]
  },
  {
   "cell_type": "markdown",
   "metadata": {
    "id": "KKNulFCWkoCV"
   },
   "source": []
  },
  {
   "cell_type": "markdown",
   "metadata": {
    "id": "a8dVHq6dFObY"
   },
   "source": [
    "## 1 - Carga los 3 csv utilizando pandas\n",
    "\n",
    "**IMPORTANTE**: utiliza los siguientes tipos para las columnas al importar los archivos csv. De lo contrario, es posible que no se importen correctamente: \n",
    "\n",
    "\n",
    "{'bathrooms':float, 'waterfront':int, \n",
    "              'sqft_above':int, 'sqft_living15':float, 'grade':int, \n",
    "             'yr_renovated':int, 'price':float, 'bedrooms':float, \n",
    "             'zipcode':str, 'long':float, 'sqft_lot15':float, \n",
    "             'sqft_living':float, 'floors':str, 'condition':int, 'lat':float, 'date':str, \n",
    "             'sqft_basement':int, 'yr_built':int, 'id':str, 'sqft_lot':int, 'view':int})\n",
    "\n",
    "\n",
    "\n",
    "\n"
   ]
  },
  {
   "cell_type": "code",
   "execution_count": 3,
   "metadata": {
    "id": "88uK-9WmFGOP"
   },
   "outputs": [],
   "source": [
    "## 1 - Carga los 3 csv utilizando pandas en 3 datasets distintos\n",
    "df_house_data = pd.read_csv('C:/Users/dario/OneDrive/Documentos/GitHub/M-ster-EDEM-22-23/3_Aprendizaje_Automatico/Machine_Learning/Regresión/Datasets/kc_house_data.csv')\n",
    "df_house_data_train = pd.read_csv('C:/Users/dario/OneDrive/Documentos/GitHub/M-ster-EDEM-22-23/3_Aprendizaje_Automatico/Machine_Learning/Regresión/Datasets/kc_house_train_data.csv')\n",
    "df_house_data_test = pd.read_csv('C:/Users/dario/OneDrive/Documentos/GitHub/M-ster-EDEM-22-23/3_Aprendizaje_Automatico/Machine_Learning/Regresión/Datasets/kc_house_test_data.csv')\n"
   ]
  },
  {
   "cell_type": "markdown",
   "metadata": {
    "id": "d34UNXwFFtOD"
   },
   "source": [
    "## 2 - Escribe una función que acepte una columna de entrada (input) y otra columna 'Output' y devuelva los parámetros de regresión lineal intersección (intercept) y pendiente (slope)"
   ]
  },
  {
   "cell_type": "code",
   "execution_count": 12,
   "metadata": {
    "id": "hWsEDC2kwujQ"
   },
   "outputs": [],
   "source": [
    "def simple_linear_regression(input, output):\n",
    "  \n",
    "   X = input.values.reshape(-1, 1)\n",
    "   y = output.values.reshape(-1, 1)\n",
    "\n",
    "   #Creamos un objeto de la clase linear_regression\n",
    "   model = LinearRegression().fit(X, y)\n",
    "   intercept = model.intercept_\n",
    "   slope = model.coef_\n",
    "\n",
    "   return (intercept, slope)\n",
    "intercept = simple_linear_regression(df_house_data_train['sqft_living'], df_house_data_train['price'])[0]\n",
    "slope = simple_linear_regression(df_house_data_train['sqft_living'], df_house_data_train['price'])[1]"
   ]
  },
  {
   "cell_type": "markdown",
   "metadata": {
    "id": "RW1f_eVvGbuk"
   },
   "source": [
    "### 3- Utiliza la función para calcular los coeficientes de intersección y pendiente de los datos de entrenamiento para predecir el precio 'price', dados los pies habitables 'sqft_living'"
   ]
  },
  {
   "cell_type": "code",
   "execution_count": 14,
   "metadata": {
    "id": "GfLkGSwUTrco"
   },
   "outputs": [
    {
     "data": {
      "text/plain": [
       "(array([-47116.07907289]), array([[281.95883963]]))"
      ]
     },
     "execution_count": 14,
     "metadata": {},
     "output_type": "execute_result"
    }
   ],
   "source": [
    "simple_linear_regression(df_house_data_train['sqft_living'], df_house_data_train['price'])"
   ]
  },
  {
   "cell_type": "code",
   "execution_count": 15,
   "metadata": {
    "id": "M2dXuz_jx4tV"
   },
   "outputs": [
    {
     "name": "stdout",
     "output_type": "stream",
     "text": [
      "Intercepto:  [-47116.07907289]\n",
      "Pendiente:  [[281.95883963]]\n"
     ]
    }
   ],
   "source": [
    "print('Intercepto: ', intercept)\n",
    "print('Pendiente: ', slope)"
   ]
  },
  {
   "cell_type": "code",
   "execution_count": null,
   "metadata": {
    "id": "qtgB7WsByUC9"
   },
   "outputs": [],
   "source": [
    "print(intercept)\n",
    "print(slope)"
   ]
  },
  {
   "cell_type": "markdown",
   "metadata": {
    "id": "WkPdk8kLT8_W"
   },
   "source": [
    "¡¡Almacena el valor de la pendiente y el intercepto para más tarde en diferentes variables!!"
   ]
  },
  {
   "cell_type": "markdown",
   "metadata": {
    "id": "68Pqum_7UTem"
   },
   "source": [
    "### 4 - Escribe una función que acepte como parámetros una columna de datos 'input', una pendiente 'slope' y un coeficiente intersección (intercept) que has aprendido, y que devuelva una columna de predicciones 'predicted_values' para cada entrada en la columna input"
   ]
  },
  {
   "cell_type": "code",
   "execution_count": 16,
   "metadata": {
    "id": "4JzUoQhcyeI1"
   },
   "outputs": [],
   "source": [
    "def get_regression_predictions(input, intercept, slope):\n",
    "  predicted_values = intercept + slope*input\n",
    "  return(predicted_values)"
   ]
  },
  {
   "cell_type": "markdown",
   "metadata": {
    "id": "FUSOgN_yzpp0"
   },
   "source": [
    "**6. Utiliza la Pendiente y el Intercepto del punto 3, Cual es el precdio predicho para una casa de 3000 sqft?**\n",
    "\n"
   ]
  },
  {
   "cell_type": "code",
   "execution_count": 18,
   "metadata": {
    "id": "9tnoCzGCzYLo"
   },
   "outputs": [
    {
     "name": "stdout",
     "output_type": "stream",
     "text": [
      "El precio estimado para una casa de 3000 pies cuadrados es:  [[798760.43981813]]\n"
     ]
    }
   ],
   "source": [
    "sqft = 3000\n",
    "get_regression_predictions(sqft, intercept, slope)\n",
    "print('El precio estimado para una casa de 3000 pies cuadrados es: ', get_regression_predictions(sqft, intercept, slope))"
   ]
  },
  {
   "cell_type": "markdown",
   "metadata": {
    "id": "93_5q1EBz9di"
   },
   "source": [
    "### 7. Escribe una función que acepte las siguientes columnas: 'input', 'output' y los parámetros de regresión 'slope' e 'intercept' y devuelva la Suma del cuadrado de los resíduos (RSS)\n",
    "\n"
   ]
  },
  {
   "cell_type": "code",
   "execution_count": null,
   "metadata": {
    "id": "bvF2IwY8z41T"
   },
   "outputs": [],
   "source": [
    "def get_residual_sum_of_squares(input, output, intercept,slope):\n",
    "\n",
    "  return()"
   ]
  },
  {
   "cell_type": "markdown",
   "metadata": {
    "id": "UAdlnZQn0u_E"
   },
   "source": [
    "**8. De acuerdo a la función, el intercepto y la pendiente del punto 3, cual es el RSS para la regresión lineal simple utilizando pies cuadrados para predecir el precio en los datos de ENTRENAMIENTO?**\n",
    "\n",
    "\n"
   ]
  },
  {
   "cell_type": "code",
   "execution_count": null,
   "metadata": {
    "id": "wBPIXKjA0ULo"
   },
   "outputs": [],
   "source": []
  },
  {
   "cell_type": "markdown",
   "metadata": {
    "id": "GtLV-fAB1ZZ-"
   },
   "source": [
    "9. Observa que, aunque hemos estimado la pendiente y el intercepto de la regresión para predecir la salida a partir de la entrada, como se trata de una relación lineal simple con sólo dos variables, ¡podemos invertir la función lineal para estimar la entrada a partir de la salida!\n",
    "\n",
    "Escriba una función que acepte una columna de datos:'output' y los parámetros de regresión 'slope' e 'intercept' y devuelva como salida la columna de datos: 'estimated_input'. Hazlo resolviendo la función lineal **output = intercept + slope*input** para la variable 'input' (es decir, queremos despejar input de la ecuación)"
   ]
  },
  {
   "cell_type": "code",
   "execution_count": null,
   "metadata": {
    "id": "aDK3D5RN1Bu7"
   },
   "outputs": [],
   "source": [
    "def inverse_regression_predictions(output, intercept, slope):\n",
    "\n",
    "  return(estimated_input)"
   ]
  },
  {
   "cell_type": "markdown",
   "metadata": {
    "id": "HoCj_73I2C_-"
   },
   "source": [
    "**10. Según esta función, la pendiente y el intercepto del punto 3, ¿cuáles son los pies cuadrados (sq.ft) estimados para una casa que cuesta 800.000 $?**\n"
   ]
  },
  {
   "cell_type": "code",
   "execution_count": null,
   "metadata": {
    "id": "oH9fOZ_k1k-n"
   },
   "outputs": [],
   "source": []
  },
  {
   "cell_type": "markdown",
   "metadata": {
    "id": "I3JM1YgM2g5e"
   },
   "source": [
    "11. En lugar de utilizar \"sqft_living\" para estimar los precios, podríamos utilizar \"bedroom\" (un recuento del número de dormitorios de la vivienda) para estimar los precios. Utilizando la función del punto 3, calcula la pendiente y el intercepto de la regresión lineal simple para estimar el precio en función de las habitaciones. Guarde la pendiente y el intercepto en nuevas variables"
   ]
  },
  {
   "cell_type": "code",
   "execution_count": null,
   "metadata": {
    "id": "P408iwTe2f8k"
   },
   "outputs": [],
   "source": []
  },
  {
   "cell_type": "code",
   "execution_count": null,
   "metadata": {
    "id": "277sFWoa7CXW"
   },
   "outputs": [],
   "source": []
  },
  {
   "cell_type": "markdown",
   "metadata": {
    "id": "luSjPYoi3D9X"
   },
   "source": [
    "12, Ahora que tenemos 2 modelos diferentes, calcule el RSS de AMBOS modelos en los datos de PRUEBA.\n"
   ]
  },
  {
   "cell_type": "code",
   "execution_count": null,
   "metadata": {
    "id": "yF1rGmXM2f65"
   },
   "outputs": [],
   "source": []
  },
  {
   "cell_type": "code",
   "execution_count": null,
   "metadata": {
    "id": "3PwZMG7V9PEW"
   },
   "outputs": [],
   "source": []
  },
  {
   "cell_type": "code",
   "execution_count": null,
   "metadata": {
    "id": "CE_RqlKb7Wro"
   },
   "outputs": [],
   "source": []
  }
 ],
 "metadata": {
  "colab": {
   "provenance": []
  },
  "kernelspec": {
   "display_name": "Python 3 (ipykernel)",
   "language": "python",
   "name": "python3"
  },
  "language_info": {
   "codemirror_mode": {
    "name": "ipython",
    "version": 3
   },
   "file_extension": ".py",
   "mimetype": "text/x-python",
   "name": "python",
   "nbconvert_exporter": "python",
   "pygments_lexer": "ipython3",
   "version": "3.10.10"
  }
 },
 "nbformat": 4,
 "nbformat_minor": 1
}
