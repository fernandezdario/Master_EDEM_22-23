{
  "cells": [
    {
      "cell_type": "markdown",
      "metadata": {
        "id": "_q3gK-ycXVfV"
      },
      "source": [
        "## INTRODUCCIÓN\n",
        "\n",
        "PCA es un técnica de **reducción de dimensión linear** que puede utilizarse para extraer información de desde un espacio dimensional superior a otro espacio dimensional inferior. Lo que buscamos con el PCA es preservar las parte que tienen más variación entre los datos y eliminar las partes con menos variación.  \n",
        "\n",
        "Las dimensiones no son más que características (variables) que representan los datos. Por ejemplo, una imagen de 28 X 28 tiene 784 elementos de imagen (píxeles) que son las dimensiones o variables que juntas representan esa imagen.\n",
        "\n",
        "Una cosa importante a tener en cuenta sobre PCA es que es una técnica de reducción de dimensionalidad **no supervisada**, donde se pueden grupar los puntos de datos similares en función de la correlación que tienen las variables sin ninguna supervisión (los datos no necesitan estar etiquetados)\n",
        "\n",
        "\n",
        "Nota: Cuando hablamos de **características, dimensiones y variables** nos referimos a lo mismo"
      ]
    },
    {
      "cell_type": "markdown",
      "metadata": {
        "id": "ne_NSm6EXjGW"
      },
      "source": [
        "![texto alternativo](https://i.ibb.co/KwFjx8j/Capture-Data-FIFA20.png)"
      ]
    },
    {
      "cell_type": "markdown",
      "metadata": {
        "id": "KUqI1V4aXu36"
      },
      "source": [
        "**Dónde se puede aplicar el PCA?**\n",
        "\n",
        "\n",
        "\n",
        "*   **Visualización de Datos:**  Un paso importante en el proceso de exploración de los datos, es la visualización de datos. Especialmente en problemas como la correlación de variables o en entender la distribución de unas pocas variables. PCA Proyecta los datos en una dimensión inferior, permitiendo visualizar los datos en un espacio 2D o 3D en una simple pasada.\n",
        "\n",
        "*   **Entrenamiento más rápido de modelos**: Ya que PCA se basa en la reducción de dimensiones, podemos aprovechar para acelerar el train y el test de los algoritmos de  ML, ya que los algoritmos con muchas dimensiones son lentos para entrenar \n",
        "\n"
      ]
    },
    {
      "cell_type": "markdown",
      "metadata": {
        "id": "2YC0ngXsWDKY"
      },
      "source": [
        "### FIFA 20 DATASET\n",
        "\n",
        "El siguiente dataset contiene más de 100 características de los jugadores del Videjuego FIFA 20. Este dataset pertenece a Kaggle y ha sido escrapeado de la web [sofifa.com](https://sofifa.com/). El contenido del dataset es el siguiente:\n",
        "\n",
        "\n",
        "\n",
        "1.   Posición de los jugadores con el rol en el club y en su selección nacional.\n",
        "2.   Atributos del jugador con estadísticas como Ataque, Habilidad, Defena, Mentalidad, Potencial, Pierna favorita, etc.,\n",
        "3.   Datos personales del jugadores como Nacionalidad, Club, Fecha de Nacimiento, Salario, Valoración\n",
        "\n",
        "\n",
        "Este notebook se va a centrar en  **Visualizar las habilidades de los jugadores**\n",
        "\n"
      ]
    },
    {
      "cell_type": "code",
      "execution_count": null,
      "metadata": {
        "id": "yOeziEMaWCbp"
      },
      "outputs": [],
      "source": [
        "#Vamos a realizar una primera exploración de los datos. Para ello, vamos a importar algunos"
      ]
    },
    {
      "cell_type": "markdown",
      "metadata": {
        "id": "YqFE-6y_Yw3T"
      },
      "source": [
        "### Vamos a realizar una primera exploración de los datos\n"
      ]
    },
    {
      "cell_type": "code",
      "execution_count": 1,
      "metadata": {
        "id": "6ABkztJ5Xry7"
      },
      "outputs": [],
      "source": [
        "from __future__ import division\n",
        "\n",
        "import numpy as np\n",
        "import pandas as pd\n",
        "\n",
        "import matplotlib.pyplot as plt\n",
        "import seaborn as sns\n",
        "plt.style.use('fivethirtyeight')\n",
        "%matplotlib inline\n",
        "\n",
        "from sklearn.decomposition import PCA\n",
        "from sklearn.preprocessing import StandardScaler, Normalizer\n",
        "from sklearn.pipeline import Pipeline\n",
        "from sklearn.linear_model import LogisticRegression\n",
        "from sklearn.model_selection import train_test_split, cross_val_score, GridSearchCV, StratifiedKFold\n",
        "from sklearn.metrics import accuracy_score, confusion_matrix"
      ]
    },
    {
      "cell_type": "markdown",
      "metadata": {
        "id": "LQc6yN4uYEZu"
      },
      "source": [
        "Importamos el fichero con el que vamos a trabajar a Google Colab."
      ]
    },
    {
      "cell_type": "code",
      "execution_count": 2,
      "metadata": {
        "id": "ZRTWByaYZld7"
      },
      "outputs": [
        {
          "data": {
            "text/plain": [
              "(18278, 103)"
            ]
          },
          "execution_count": 2,
          "metadata": {},
          "output_type": "execute_result"
        }
      ],
      "source": [
        "fifa20 = pd.read_csv(\"C:/Users/dario/OneDrive/Documentos/GitHub/M-ster-EDEM-22-23/3_Aprendizaje_Automatico/Machine_Learning/Regresión/Datasets/players_20.csv\", index_col=0)\n",
        "\n",
        "#Vamos a explorar el tamaño del dataset\n",
        "fifa20.shape"
      ]
    },
    {
      "cell_type": "code",
      "execution_count": 3,
      "metadata": {
        "id": "8Ehx0XKQZ33r"
      },
      "outputs": [
        {
          "data": {
            "text/html": [
              "<div>\n",
              "<style scoped>\n",
              "    .dataframe tbody tr th:only-of-type {\n",
              "        vertical-align: middle;\n",
              "    }\n",
              "\n",
              "    .dataframe tbody tr th {\n",
              "        vertical-align: top;\n",
              "    }\n",
              "\n",
              "    .dataframe thead th {\n",
              "        text-align: right;\n",
              "    }\n",
              "</style>\n",
              "<table border=\"1\" class=\"dataframe\">\n",
              "  <thead>\n",
              "    <tr style=\"text-align: right;\">\n",
              "      <th></th>\n",
              "      <th>player_url</th>\n",
              "      <th>short_name</th>\n",
              "      <th>long_name</th>\n",
              "      <th>age</th>\n",
              "      <th>dob</th>\n",
              "      <th>height_cm</th>\n",
              "      <th>weight_kg</th>\n",
              "      <th>nationality</th>\n",
              "      <th>club</th>\n",
              "      <th>overall</th>\n",
              "      <th>...</th>\n",
              "      <th>lwb</th>\n",
              "      <th>ldm</th>\n",
              "      <th>cdm</th>\n",
              "      <th>rdm</th>\n",
              "      <th>rwb</th>\n",
              "      <th>lb</th>\n",
              "      <th>lcb</th>\n",
              "      <th>cb</th>\n",
              "      <th>rcb</th>\n",
              "      <th>rb</th>\n",
              "    </tr>\n",
              "    <tr>\n",
              "      <th>sofifa_id</th>\n",
              "      <th></th>\n",
              "      <th></th>\n",
              "      <th></th>\n",
              "      <th></th>\n",
              "      <th></th>\n",
              "      <th></th>\n",
              "      <th></th>\n",
              "      <th></th>\n",
              "      <th></th>\n",
              "      <th></th>\n",
              "      <th></th>\n",
              "      <th></th>\n",
              "      <th></th>\n",
              "      <th></th>\n",
              "      <th></th>\n",
              "      <th></th>\n",
              "      <th></th>\n",
              "      <th></th>\n",
              "      <th></th>\n",
              "      <th></th>\n",
              "      <th></th>\n",
              "    </tr>\n",
              "  </thead>\n",
              "  <tbody>\n",
              "    <tr>\n",
              "      <th>158023</th>\n",
              "      <td>https://sofifa.com/player/158023/lionel-messi/...</td>\n",
              "      <td>L. Messi</td>\n",
              "      <td>Lionel Andrés Messi Cuccittini</td>\n",
              "      <td>32</td>\n",
              "      <td>1987-06-24</td>\n",
              "      <td>170</td>\n",
              "      <td>72</td>\n",
              "      <td>Argentina</td>\n",
              "      <td>FC Barcelona</td>\n",
              "      <td>94</td>\n",
              "      <td>...</td>\n",
              "      <td>68+2</td>\n",
              "      <td>66+2</td>\n",
              "      <td>66+2</td>\n",
              "      <td>66+2</td>\n",
              "      <td>68+2</td>\n",
              "      <td>63+2</td>\n",
              "      <td>52+2</td>\n",
              "      <td>52+2</td>\n",
              "      <td>52+2</td>\n",
              "      <td>63+2</td>\n",
              "    </tr>\n",
              "    <tr>\n",
              "      <th>20801</th>\n",
              "      <td>https://sofifa.com/player/20801/c-ronaldo-dos-...</td>\n",
              "      <td>Cristiano Ronaldo</td>\n",
              "      <td>Cristiano Ronaldo dos Santos Aveiro</td>\n",
              "      <td>34</td>\n",
              "      <td>1985-02-05</td>\n",
              "      <td>187</td>\n",
              "      <td>83</td>\n",
              "      <td>Portugal</td>\n",
              "      <td>Juventus</td>\n",
              "      <td>93</td>\n",
              "      <td>...</td>\n",
              "      <td>65+3</td>\n",
              "      <td>61+3</td>\n",
              "      <td>61+3</td>\n",
              "      <td>61+3</td>\n",
              "      <td>65+3</td>\n",
              "      <td>61+3</td>\n",
              "      <td>53+3</td>\n",
              "      <td>53+3</td>\n",
              "      <td>53+3</td>\n",
              "      <td>61+3</td>\n",
              "    </tr>\n",
              "    <tr>\n",
              "      <th>190871</th>\n",
              "      <td>https://sofifa.com/player/190871/neymar-da-sil...</td>\n",
              "      <td>Neymar Jr</td>\n",
              "      <td>Neymar da Silva Santos Junior</td>\n",
              "      <td>27</td>\n",
              "      <td>1992-02-05</td>\n",
              "      <td>175</td>\n",
              "      <td>68</td>\n",
              "      <td>Brazil</td>\n",
              "      <td>Paris Saint-Germain</td>\n",
              "      <td>92</td>\n",
              "      <td>...</td>\n",
              "      <td>66+3</td>\n",
              "      <td>61+3</td>\n",
              "      <td>61+3</td>\n",
              "      <td>61+3</td>\n",
              "      <td>66+3</td>\n",
              "      <td>61+3</td>\n",
              "      <td>46+3</td>\n",
              "      <td>46+3</td>\n",
              "      <td>46+3</td>\n",
              "      <td>61+3</td>\n",
              "    </tr>\n",
              "    <tr>\n",
              "      <th>200389</th>\n",
              "      <td>https://sofifa.com/player/200389/jan-oblak/20/...</td>\n",
              "      <td>J. Oblak</td>\n",
              "      <td>Jan Oblak</td>\n",
              "      <td>26</td>\n",
              "      <td>1993-01-07</td>\n",
              "      <td>188</td>\n",
              "      <td>87</td>\n",
              "      <td>Slovenia</td>\n",
              "      <td>Atlético Madrid</td>\n",
              "      <td>91</td>\n",
              "      <td>...</td>\n",
              "      <td>NaN</td>\n",
              "      <td>NaN</td>\n",
              "      <td>NaN</td>\n",
              "      <td>NaN</td>\n",
              "      <td>NaN</td>\n",
              "      <td>NaN</td>\n",
              "      <td>NaN</td>\n",
              "      <td>NaN</td>\n",
              "      <td>NaN</td>\n",
              "      <td>NaN</td>\n",
              "    </tr>\n",
              "    <tr>\n",
              "      <th>183277</th>\n",
              "      <td>https://sofifa.com/player/183277/eden-hazard/2...</td>\n",
              "      <td>E. Hazard</td>\n",
              "      <td>Eden Hazard</td>\n",
              "      <td>28</td>\n",
              "      <td>1991-01-07</td>\n",
              "      <td>175</td>\n",
              "      <td>74</td>\n",
              "      <td>Belgium</td>\n",
              "      <td>Real Madrid</td>\n",
              "      <td>91</td>\n",
              "      <td>...</td>\n",
              "      <td>66+3</td>\n",
              "      <td>63+3</td>\n",
              "      <td>63+3</td>\n",
              "      <td>63+3</td>\n",
              "      <td>66+3</td>\n",
              "      <td>61+3</td>\n",
              "      <td>49+3</td>\n",
              "      <td>49+3</td>\n",
              "      <td>49+3</td>\n",
              "      <td>61+3</td>\n",
              "    </tr>\n",
              "    <tr>\n",
              "      <th>192985</th>\n",
              "      <td>https://sofifa.com/player/192985/kevin-de-bruy...</td>\n",
              "      <td>K. De Bruyne</td>\n",
              "      <td>Kevin De Bruyne</td>\n",
              "      <td>28</td>\n",
              "      <td>1991-06-28</td>\n",
              "      <td>181</td>\n",
              "      <td>70</td>\n",
              "      <td>Belgium</td>\n",
              "      <td>Manchester City</td>\n",
              "      <td>91</td>\n",
              "      <td>...</td>\n",
              "      <td>77+3</td>\n",
              "      <td>77+3</td>\n",
              "      <td>77+3</td>\n",
              "      <td>77+3</td>\n",
              "      <td>77+3</td>\n",
              "      <td>73+3</td>\n",
              "      <td>66+3</td>\n",
              "      <td>66+3</td>\n",
              "      <td>66+3</td>\n",
              "      <td>73+3</td>\n",
              "    </tr>\n",
              "    <tr>\n",
              "      <th>192448</th>\n",
              "      <td>https://sofifa.com/player/192448/marc-andre-te...</td>\n",
              "      <td>M. ter Stegen</td>\n",
              "      <td>Marc-André ter Stegen</td>\n",
              "      <td>27</td>\n",
              "      <td>1992-04-30</td>\n",
              "      <td>187</td>\n",
              "      <td>85</td>\n",
              "      <td>Germany</td>\n",
              "      <td>FC Barcelona</td>\n",
              "      <td>90</td>\n",
              "      <td>...</td>\n",
              "      <td>NaN</td>\n",
              "      <td>NaN</td>\n",
              "      <td>NaN</td>\n",
              "      <td>NaN</td>\n",
              "      <td>NaN</td>\n",
              "      <td>NaN</td>\n",
              "      <td>NaN</td>\n",
              "      <td>NaN</td>\n",
              "      <td>NaN</td>\n",
              "      <td>NaN</td>\n",
              "    </tr>\n",
              "    <tr>\n",
              "      <th>203376</th>\n",
              "      <td>https://sofifa.com/player/203376/virgil-van-di...</td>\n",
              "      <td>V. van Dijk</td>\n",
              "      <td>Virgil van Dijk</td>\n",
              "      <td>27</td>\n",
              "      <td>1991-07-08</td>\n",
              "      <td>193</td>\n",
              "      <td>92</td>\n",
              "      <td>Netherlands</td>\n",
              "      <td>Liverpool</td>\n",
              "      <td>90</td>\n",
              "      <td>...</td>\n",
              "      <td>79+3</td>\n",
              "      <td>83+3</td>\n",
              "      <td>83+3</td>\n",
              "      <td>83+3</td>\n",
              "      <td>79+3</td>\n",
              "      <td>81+3</td>\n",
              "      <td>87+3</td>\n",
              "      <td>87+3</td>\n",
              "      <td>87+3</td>\n",
              "      <td>81+3</td>\n",
              "    </tr>\n",
              "    <tr>\n",
              "      <th>177003</th>\n",
              "      <td>https://sofifa.com/player/177003/luka-modric/2...</td>\n",
              "      <td>L. Modrić</td>\n",
              "      <td>Luka Modrić</td>\n",
              "      <td>33</td>\n",
              "      <td>1985-09-09</td>\n",
              "      <td>172</td>\n",
              "      <td>66</td>\n",
              "      <td>Croatia</td>\n",
              "      <td>Real Madrid</td>\n",
              "      <td>90</td>\n",
              "      <td>...</td>\n",
              "      <td>81+3</td>\n",
              "      <td>81+3</td>\n",
              "      <td>81+3</td>\n",
              "      <td>81+3</td>\n",
              "      <td>81+3</td>\n",
              "      <td>79+3</td>\n",
              "      <td>72+3</td>\n",
              "      <td>72+3</td>\n",
              "      <td>72+3</td>\n",
              "      <td>79+3</td>\n",
              "    </tr>\n",
              "    <tr>\n",
              "      <th>209331</th>\n",
              "      <td>https://sofifa.com/player/209331/mohamed-salah...</td>\n",
              "      <td>M. Salah</td>\n",
              "      <td>Mohamed  Salah Ghaly</td>\n",
              "      <td>27</td>\n",
              "      <td>1992-06-15</td>\n",
              "      <td>175</td>\n",
              "      <td>71</td>\n",
              "      <td>Egypt</td>\n",
              "      <td>Liverpool</td>\n",
              "      <td>90</td>\n",
              "      <td>...</td>\n",
              "      <td>70+3</td>\n",
              "      <td>67+3</td>\n",
              "      <td>67+3</td>\n",
              "      <td>67+3</td>\n",
              "      <td>70+3</td>\n",
              "      <td>66+3</td>\n",
              "      <td>57+3</td>\n",
              "      <td>57+3</td>\n",
              "      <td>57+3</td>\n",
              "      <td>66+3</td>\n",
              "    </tr>\n",
              "  </tbody>\n",
              "</table>\n",
              "<p>10 rows × 103 columns</p>\n",
              "</div>"
            ],
            "text/plain": [
              "                                                  player_url  \\\n",
              "sofifa_id                                                      \n",
              "158023     https://sofifa.com/player/158023/lionel-messi/...   \n",
              "20801      https://sofifa.com/player/20801/c-ronaldo-dos-...   \n",
              "190871     https://sofifa.com/player/190871/neymar-da-sil...   \n",
              "200389     https://sofifa.com/player/200389/jan-oblak/20/...   \n",
              "183277     https://sofifa.com/player/183277/eden-hazard/2...   \n",
              "192985     https://sofifa.com/player/192985/kevin-de-bruy...   \n",
              "192448     https://sofifa.com/player/192448/marc-andre-te...   \n",
              "203376     https://sofifa.com/player/203376/virgil-van-di...   \n",
              "177003     https://sofifa.com/player/177003/luka-modric/2...   \n",
              "209331     https://sofifa.com/player/209331/mohamed-salah...   \n",
              "\n",
              "                  short_name                            long_name  age  \\\n",
              "sofifa_id                                                                \n",
              "158023              L. Messi       Lionel Andrés Messi Cuccittini   32   \n",
              "20801      Cristiano Ronaldo  Cristiano Ronaldo dos Santos Aveiro   34   \n",
              "190871             Neymar Jr        Neymar da Silva Santos Junior   27   \n",
              "200389              J. Oblak                            Jan Oblak   26   \n",
              "183277             E. Hazard                          Eden Hazard   28   \n",
              "192985          K. De Bruyne                      Kevin De Bruyne   28   \n",
              "192448         M. ter Stegen                Marc-André ter Stegen   27   \n",
              "203376           V. van Dijk                      Virgil van Dijk   27   \n",
              "177003             L. Modrić                          Luka Modrić   33   \n",
              "209331              M. Salah                 Mohamed  Salah Ghaly   27   \n",
              "\n",
              "                  dob  height_cm  weight_kg  nationality                 club  \\\n",
              "sofifa_id                                                                       \n",
              "158023     1987-06-24        170         72    Argentina         FC Barcelona   \n",
              "20801      1985-02-05        187         83     Portugal             Juventus   \n",
              "190871     1992-02-05        175         68       Brazil  Paris Saint-Germain   \n",
              "200389     1993-01-07        188         87     Slovenia      Atlético Madrid   \n",
              "183277     1991-01-07        175         74      Belgium          Real Madrid   \n",
              "192985     1991-06-28        181         70      Belgium      Manchester City   \n",
              "192448     1992-04-30        187         85      Germany         FC Barcelona   \n",
              "203376     1991-07-08        193         92  Netherlands            Liverpool   \n",
              "177003     1985-09-09        172         66      Croatia          Real Madrid   \n",
              "209331     1992-06-15        175         71        Egypt            Liverpool   \n",
              "\n",
              "           overall  ...   lwb   ldm   cdm   rdm   rwb    lb   lcb    cb   rcb  \\\n",
              "sofifa_id           ...                                                         \n",
              "158023          94  ...  68+2  66+2  66+2  66+2  68+2  63+2  52+2  52+2  52+2   \n",
              "20801           93  ...  65+3  61+3  61+3  61+3  65+3  61+3  53+3  53+3  53+3   \n",
              "190871          92  ...  66+3  61+3  61+3  61+3  66+3  61+3  46+3  46+3  46+3   \n",
              "200389          91  ...   NaN   NaN   NaN   NaN   NaN   NaN   NaN   NaN   NaN   \n",
              "183277          91  ...  66+3  63+3  63+3  63+3  66+3  61+3  49+3  49+3  49+3   \n",
              "192985          91  ...  77+3  77+3  77+3  77+3  77+3  73+3  66+3  66+3  66+3   \n",
              "192448          90  ...   NaN   NaN   NaN   NaN   NaN   NaN   NaN   NaN   NaN   \n",
              "203376          90  ...  79+3  83+3  83+3  83+3  79+3  81+3  87+3  87+3  87+3   \n",
              "177003          90  ...  81+3  81+3  81+3  81+3  81+3  79+3  72+3  72+3  72+3   \n",
              "209331          90  ...  70+3  67+3  67+3  67+3  70+3  66+3  57+3  57+3  57+3   \n",
              "\n",
              "             rb  \n",
              "sofifa_id        \n",
              "158023     63+2  \n",
              "20801      61+3  \n",
              "190871     61+3  \n",
              "200389      NaN  \n",
              "183277     61+3  \n",
              "192985     73+3  \n",
              "192448      NaN  \n",
              "203376     81+3  \n",
              "177003     79+3  \n",
              "209331     66+3  \n",
              "\n",
              "[10 rows x 103 columns]"
            ]
          },
          "execution_count": 3,
          "metadata": {},
          "output_type": "execute_result"
        }
      ],
      "source": [
        "#echamos un primer vistazo a los datos.\n",
        "\n",
        "fifa20.head(10)"
      ]
    },
    {
      "cell_type": "code",
      "execution_count": null,
      "metadata": {
        "id": "35LDr1fmjzGQ"
      },
      "outputs": [],
      "source": []
    },
    {
      "cell_type": "markdown",
      "metadata": {
        "id": "JgjPLy7Tj0DV"
      },
      "source": [
        "Tenemos más de 100 Variables, por lo que es Normal pensar que muchas de ellas son redundantes.\n",
        "\n",
        "## Correlación de Pearson\n",
        "\n",
        "Una forma de responder a esto es creando una matriz de correlación utilizando un algoritmo como el de pearson.\n",
        "\n",
        "El coeficiente de correlación de pearson tiene valores entre -1 y 1\n",
        "\n",
        "\n",
        "*   Un valor cercano a 0 implica una correlación débil (si es 0 no hay ninguna correlación)\n",
        "*   Un valor cercano al 1 implica una correlación fuertemente positiva\n",
        "*   Un valor cercano al -1 implica una correlación fuertemente negativa"
      ]
    },
    {
      "cell_type": "code",
      "execution_count": null,
      "metadata": {
        "id": "tRaZVl1Eji05"
      },
      "outputs": [],
      "source": [
        "#Using Pearson Correlation\n",
        "plt.figure(figsize=(18,16))\n",
        "cor = fifa20.corr()\n",
        "sns.heatmap(cor, vmin=-1, cmap='BrBG')\n",
        "plt.show()"
      ]
    },
    {
      "cell_type": "code",
      "execution_count": null,
      "metadata": {
        "id": "YBwBxT8ZkSzT"
      },
      "outputs": [],
      "source": []
    },
    {
      "cell_type": "markdown",
      "metadata": {
        "id": "RtdeoKEkkTVO"
      },
      "source": [
        "Vemos que hay una fuerte correlación negativa abajo y otra en el lado derecho de la matriz. Estas habilidades son las de los porteros (conducción de balón, manos, posición de portero, reflejos) y están correlacionadas de manera negativa con las de los delanteros.  \n",
        "\n",
        "Podemos también observar como las habilidades de los porteros están fuertamente correlacionadas centre ellas.\n",
        "\n",
        "\n",
        "\n",
        "\n",
        "En general, independientemente de si están relacionados con los Porteros o no , existen muchas habilidades correlacionadas. Esto significa que podríamos no necesitarlas todas o podemos expresar la misma información con un conjunto de variables menor."
      ]
    },
    {
      "cell_type": "markdown",
      "metadata": {
        "id": "b73tJ4H0faCA"
      },
      "source": [
        "Como hemos comentado anteriormente, nos interesan únicamente las variables que hacen referencia a las habilidades de los jugadores. Así que vamos a crear otro dataset que contenga únicamente las columnas que nos interesan. \n",
        "\n",
        "### EJERCICIO. \n",
        "**Crea un dataset nuevo llamado \"fifa_skills\" que contenga únicamente las variables de los jugadores.**\n",
        "\n",
        "Pista: Estas variables van desde la columna *pace* hasta la columna goalkeeping_reflexes"
      ]
    },
    {
      "cell_type": "code",
      "execution_count": null,
      "metadata": {
        "id": "HOeb_yQuaom6"
      },
      "outputs": [],
      "source": [
        "#Nos interesan las solamente las habilidades de los jugadores. Creamos un dataset Nuevo.\n",
        "\n",
        "#Cogemos los nombres de las columnas\n",
        "fifa_skills ="
      ]
    },
    {
      "cell_type": "code",
      "execution_count": null,
      "metadata": {
        "id": "XHAjfbVcbTBp"
      },
      "outputs": [],
      "source": [
        "#Vamos a ver los tipos, ya que nos interesa que todas las columnas sean numéricas para poder representar los datos.\n",
        "fifa_skills.dtypes"
      ]
    },
    {
      "cell_type": "code",
      "execution_count": null,
      "metadata": {
        "id": "jb4-vMBqfYtY"
      },
      "outputs": [],
      "source": [
        "#Hay una variable que es un objeto. Vamos a ver qué valores contiene.\n",
        "fifa_skills['player_traits'].values"
      ]
    },
    {
      "cell_type": "code",
      "execution_count": null,
      "metadata": {
        "id": "KqpIsYBlf_P5"
      },
      "outputs": [],
      "source": [
        "#Se tratan de rasgos del jugadores. Eliminamos la columna, aunque otra opción sería convertirla a one-hot vectors.\n",
        "fifa_skills = fifa_skills.drop(\"player_traits\", axis=1)\n"
      ]
    },
    {
      "cell_type": "markdown",
      "metadata": {
        "id": "qAL6rBv-iYQy"
      },
      "source": [
        "###EJERCICIO \n",
        "\n",
        "Crea otra matriz de correlación de pearson. Utilizar ahora el mapa de color llamado *coolwarm* \n",
        "\n",
        "\n"
      ]
    },
    {
      "cell_type": "markdown",
      "metadata": {
        "id": "Cz-3n2uDnmiF"
      },
      "source": []
    },
    {
      "cell_type": "code",
      "execution_count": null,
      "metadata": {
        "id": "4IrUYrF4ku3n"
      },
      "outputs": [],
      "source": []
    },
    {
      "cell_type": "markdown",
      "metadata": {
        "id": "vGwlAvCmDAY6"
      },
      "source": [
        "**¿QUÉ VARIABLES CREES TÚ QUE PODRÍAMOS ELIMINAR?**\n"
      ]
    },
    {
      "cell_type": "code",
      "execution_count": null,
      "metadata": {
        "id": "_XtBSWIVplsi"
      },
      "outputs": [],
      "source": [
        "fifa_skills.columns.values"
      ]
    },
    {
      "cell_type": "markdown",
      "metadata": {
        "id": "KsA-xf89Ec40"
      },
      "source": [
        "Para hacer el PCA, primero tenemos que lidiar con los missing values y los blank values.\n",
        "\n",
        "---\n",
        "\n"
      ]
    },
    {
      "cell_type": "code",
      "execution_count": null,
      "metadata": {
        "id": "v3CE9AV8vHdG"
      },
      "outputs": [],
      "source": [
        "#Vamos a ver cuantos valores  tenemos para el PCA\n",
        "\n",
        "fifa_skills.isnull().sum()[fifa_skills.isnull().sum() > 0]\n"
      ]
    },
    {
      "cell_type": "markdown",
      "metadata": {
        "id": "KCB0KqzvByWs"
      },
      "source": [
        "Analizando las variables, vemos que tenemos variables duplicadas.\n",
        "\n",
        "Eliminamos las variables gk_diving, gk_handling, gk_kicking, gk_reflexes, gk_speed y gk_positioning. Existe una misma variable para cada una de ellas que empieza por goalkipping_xxx\n",
        "\n",
        "\n",
        "\n",
        "\n",
        "\n"
      ]
    },
    {
      "cell_type": "code",
      "execution_count": null,
      "metadata": {
        "id": "2Prn1mWMCh7L"
      },
      "outputs": [],
      "source": [
        "columns_to_delete = ['gk_diving', 'gk_diving', 'gk_kicking', 'gk_reflexes', 'gk_speed', 'gk_positioning', 'gk_handling']\n",
        "\n",
        "fifa_skills = fifa_skills.drop(columns_to_delete, axis=1)\n",
        "\n",
        "fifa_skills.columns.values"
      ]
    },
    {
      "cell_type": "markdown",
      "metadata": {
        "id": "tGOs95dnmJN6"
      },
      "source": [
        "### EJERCICIO\n",
        "\n",
        "Aisla los null value y mira qué características tienen todos en común.\n",
        "\n",
        "Pista: utiliza el atributo .isnull()"
      ]
    },
    {
      "cell_type": "code",
      "execution_count": null,
      "metadata": {
        "id": "ECTkiShlK7vQ"
      },
      "outputs": [],
      "source": [
        "#Vamos a estudiar qué características tienes los jugadores con Null Value\n"
      ]
    },
    {
      "cell_type": "markdown",
      "metadata": {
        "id": "Zn11DgAfCvWN"
      },
      "source": [
        "\n",
        "\n",
        "Vemos que todos los jugadores que tienen null values, tienen una características bastante significativa en común. Como no queremos deshacernos de ellos en el dataset, ponemos los atributos Null a 0\n",
        "\n"
      ]
    },
    {
      "cell_type": "code",
      "execution_count": null,
      "metadata": {
        "id": "14zqv4eWN9DN"
      },
      "outputs": [],
      "source": [
        "fifa_skills.fillna(0, inplace=True)\n",
        "fifa_skills.isnull().sum().sum()\n"
      ]
    },
    {
      "cell_type": "code",
      "execution_count": null,
      "metadata": {
        "id": "pfpKYICURucJ"
      },
      "outputs": [],
      "source": [
        "#Le añadimos el promedio de los jugadores. Nos servirá luego para quedarnos con los 100 mejores\n",
        "\n",
        "fifa_skills = fifa_skills.join(fifa20['overall'])\n",
        "\n"
      ]
    },
    {
      "cell_type": "markdown",
      "metadata": {
        "id": "ZvTRTbhUm41I"
      },
      "source": [
        "Vamos a realizar un diagrama que nos indique el número de componentes que nos explican la variabilidad en los datos.ç"
      ]
    },
    {
      "cell_type": "code",
      "execution_count": null,
      "metadata": {
        "id": "ml4GKdYHtN9Q"
      },
      "outputs": [],
      "source": [
        "#Escalamos los datos para hacer el diagrama que explica los componentes\n",
        "\n",
        "from sklearn.preprocessing import MinMaxScaler\n",
        "\n",
        "\n",
        "scaler = MinMaxScaler(feature_range=[-1, 1]) \n",
        "fifa_rescaled = scaler.fit_transform(fifa_skills)"
      ]
    },
    {
      "cell_type": "code",
      "execution_count": null,
      "metadata": {
        "id": "_I7PT-H6tthG"
      },
      "outputs": [],
      "source": [
        "fifa_rescaled"
      ]
    },
    {
      "cell_type": "code",
      "execution_count": null,
      "metadata": {
        "id": "e8UF8tKHtuvm"
      },
      "outputs": [],
      "source": [
        "#Ajustando el PCA con nuestros datos\n",
        "pca = PCA().fit(fifa_rescaled)\n",
        "#Gráfica de la suma acumulativa de la varianza explicada\n",
        "plt.figure()\n",
        "plt.plot(np.cumsum(pca.explained_variance_ratio_))\n",
        "plt.xlabel('Número de Componentes')\n",
        "plt.ylabel('Varianza (%)') #para cada componente\n",
        "plt.title('FIFA 20 Dataset Explained Variance')\n",
        "plt.show()"
      ]
    },
    {
      "cell_type": "markdown",
      "metadata": {
        "id": "sKi_9sElPvRf"
      },
      "source": [
        "El gráfico de Arriba nos está diciendo que seleccionando **únicamente 10 componentes podemos mantener el 95% de la varianza en los datos**. Con 20 podríamos explicar en un 98% el comportamiento de los datos y con 25 podríamos explicar el 100%. \n",
        "\n",
        "Como hemos supuesto al principio, tenemos bastantes variables que son redundantes\n",
        "\n",
        "\n",
        "\n"
      ]
    },
    {
      "cell_type": "markdown",
      "metadata": {
        "id": "14_Zy1XPTPrj"
      },
      "source": [
        "## TOP 100 FIFA PLAYERS\n",
        "\n",
        "Para mostrar algunos gráficos, vamos a quedarnos únicamente con el TOP 100 de Jugadores. "
      ]
    },
    {
      "cell_type": "code",
      "execution_count": null,
      "metadata": {
        "id": "Br73wSq3TPET"
      },
      "outputs": [],
      "source": [
        "#Vamos a unir el nombre y las posiciones de los jugadores. Luego cogeremos el Top 100\n",
        "\n",
        "fifa_skills = fifa_skills.join(fifa20[['short_name', 'player_positions']])\n",
        "fifa_skills.head()\n"
      ]
    },
    {
      "cell_type": "code",
      "execution_count": null,
      "metadata": {
        "id": "Lvbqo009Tz33"
      },
      "outputs": [],
      "source": [
        "fifa_top100 = fifa_skills.sort_values('overall', ascending=False).head(100).reset_index(drop=True).copy()\n"
      ]
    },
    {
      "cell_type": "code",
      "execution_count": null,
      "metadata": {
        "id": "ZD-Fye-qUUoY"
      },
      "outputs": [],
      "source": [
        "#Comprobamos de nuevo si existen valores nulos\n",
        "fifa_top100.isnull().sum().sum()"
      ]
    },
    {
      "cell_type": "markdown",
      "metadata": {
        "id": "E50MaEuIb8GR"
      },
      "source": [
        "Vamos a utilizar una gráfica en 2 dimensiones para intentar explicar mejor los datos. Para ello utilizaremos PCA."
      ]
    },
    {
      "cell_type": "code",
      "execution_count": null,
      "metadata": {
        "id": "i6Kcwk-LcWKa"
      },
      "outputs": [],
      "source": [
        "X = fifa_top100.loc[:, 'pace':'overall'].copy()\n",
        "\n",
        "#Nos quedaremos con 2 variables, para poder \n",
        "\n",
        "pipe = Pipeline([\n",
        "        ('scaler', StandardScaler()),\n",
        "        ('decomposition', PCA(n_components=2))\n",
        "    ])"
      ]
    },
    {
      "cell_type": "code",
      "execution_count": null,
      "metadata": {
        "id": "dqF1TnHRdCGo"
      },
      "outputs": [],
      "source": [
        "X_transformed = pipe.fit_transform(X)\n",
        "X_transformed.shape"
      ]
    },
    {
      "cell_type": "code",
      "execution_count": null,
      "metadata": {
        "id": "wYxBSXtidEdW"
      },
      "outputs": [],
      "source": [
        "# Vamos a ver el porcentaje de varianza que tiene cada uno de los componentes\n",
        "pipe.named_steps['decomposition'].explained_variance_ratio_"
      ]
    },
    {
      "cell_type": "code",
      "execution_count": null,
      "metadata": {
        "id": "W_ENuyMXdIBM"
      },
      "outputs": [],
      "source": [
        "#Vamos a utilizar estos dos componentes para hacer un plot con un gráfico.\n",
        "\n",
        "players_pca = pd.DataFrame(X_transformed, columns=['first_component', 'second_component'])\n",
        "\n",
        "\n",
        "\n",
        "players_pca = players_pca.join(fifa_top100['short_name'])"
      ]
    },
    {
      "cell_type": "code",
      "execution_count": null,
      "metadata": {
        "id": "7g7hQlEliEdC"
      },
      "outputs": [],
      "source": [
        "labels = players_pca['short_name'].head(30)\n",
        "labels"
      ]
    },
    {
      "cell_type": "code",
      "execution_count": null,
      "metadata": {
        "id": "sCArBjCygk24"
      },
      "outputs": [],
      "source": [
        "##Plot the first 30 elements\n",
        "\n",
        "fig, ax = plt.subplots(1, 1, figsize=(15, 15))\n",
        "\n",
        "ax.scatter(players_pca.first_component, players_pca.second_component, s=600, alpha=0.5)\n",
        "\n",
        "ax.set_title('PCA Separa los porteros de los otros jugadores', size=20)\n",
        "ax.set_xlabel('primer componente', size=16)\n",
        "ax.set_ylabel('segundo componente', size=16)\n",
        "ax.tick_params(labelsize=14)\n",
        "ax.set_xlim(-6, 15)\n",
        "ax.grid(False)\n",
        "\n",
        "for label, x, y in zip(labels,\n",
        "                       players_pca.first_component,\n",
        "                       players_pca.second_component):\n",
        "    ax.annotate(label, xy=(x, y), xytext=(-10, 5),\n",
        "               textcoords='offset points', ha='right', va='bottom')\n",
        "    \n",
        "fig.tight_layout()"
      ]
    },
    {
      "cell_type": "markdown",
      "metadata": {
        "id": "SFFuXzkXnWYv"
      },
      "source": [
        "Con PCA, vamos a intentar diferenciar entre los jugadores de campo y los jugadores de "
      ]
    },
    {
      "cell_type": "markdown",
      "metadata": {
        "id": "7X3hOroKqIO0"
      },
      "source": [
        "## EJERCICIO\n",
        "\n",
        "Utilizando las componentes de arriba, intenta encontrar diferencia entre únicamente los jugadores de campo delanteros, centrocampistas y defensas"
      ]
    },
    {
      "cell_type": "code",
      "execution_count": null,
      "metadata": {
        "id": "aVgqIui5qHg0"
      },
      "outputs": [],
      "source": []
    },
    {
      "cell_type": "markdown",
      "metadata": {
        "id": "gGdNLfNFoxlr"
      },
      "source": []
    },
    {
      "cell_type": "code",
      "execution_count": null,
      "metadata": {
        "id": "Vxr-W_LSoubt"
      },
      "outputs": [],
      "source": [
        "labels = otros_jugadores['short_name'].head(35)\n",
        "\n",
        "\n",
        "\n",
        "fig, ax = plt.subplots(1, 1, figsize=(15, 15))\n",
        "\n",
        "ax.scatter(otros_jugadores.first_component, otros_jugadores.second_component, s=600,\n",
        "           alpha=0.5, c='#00D48A')\n",
        "\n",
        "ax.set_title('Sólo jugadores de campo', size=20)\n",
        "ax.set_xlabel('Primer Componente', size=16)\n",
        "ax.set_ylabel('Segundo Componente', size=16)\n",
        "ax.tick_params(labelsize=14)\n",
        "ax.grid(False)\n",
        "\n",
        "\n",
        "\n",
        "for label, x, y in zip(labels,\n",
        "                       otros_jugadores.first_component,\n",
        "                       otros_jugadores.second_component):\n",
        "    ax.annotate(label, xy=(x, y), xytext=(-10, 5),\n",
        "               textcoords='offset points', ha='right', va='bottom')\n",
        "    \n"
      ]
    },
    {
      "cell_type": "markdown",
      "metadata": {
        "id": "YgZr8_divSuI"
      },
      "source": [
        "\n",
        "ALgunas conclusiones que sacamos es que los defensas están bastante separados de los delanteros.\n",
        "\n",
        "\n",
        "Los jugadores más ofensivos están en la esquina inferior izquierda y los jugadores más defensivos están en la esquina superior derecha. \n"
      ]
    },
    {
      "cell_type": "code",
      "execution_count": null,
      "metadata": {
        "id": "PsaGknhLyoOw"
      },
      "outputs": [],
      "source": [
        "from IPython.display import clear_output\n",
        "clear_output()\n"
      ]
    },
    {
      "cell_type": "code",
      "execution_count": null,
      "metadata": {
        "id": "IuAAN7zusEZv"
      },
      "outputs": [],
      "source": []
    }
  ],
  "metadata": {
    "colab": {
      "provenance": []
    },
    "kernelspec": {
      "display_name": "Python 3",
      "name": "python3"
    },
    "language_info": {
      "codemirror_mode": {
        "name": "ipython",
        "version": 3
      },
      "file_extension": ".py",
      "mimetype": "text/x-python",
      "name": "python",
      "nbconvert_exporter": "python",
      "pygments_lexer": "ipython3",
      "version": "3.10.11"
    }
  },
  "nbformat": 4,
  "nbformat_minor": 0
}
