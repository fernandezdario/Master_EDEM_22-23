{
 "cells": [
  {
   "cell_type": "markdown",
   "metadata": {},
   "source": [
    "Cuando haces una clase es inutil realizarlo siempre y cuando este sea un script que se ejecute de forma lineal.\n",
    "\n",
    "Las clases son mejores para cuando quieres repetir una estrcutura a la cual le quieres meter una serie de datos."
   ]
  },
  {
   "cell_type": "markdown",
   "metadata": {},
   "source": [
    "Un producto que tenga:\n",
    "- ID\n",
    "- nombre\n",
    "- precio\n",
    "- categoria\n",
    "- coste de produccion\n",
    "- color\n",
    "  \n",
    "IKEA:\n",
    "- Armario:\n",
    "  - numero de puertas\n",
    "  - dimensiones\n",
    "  - altura\n",
    "  - anchura\n",
    "\n",
    "- Silla:\n",
    "  - patas\n",
    "  - material\n"
   ]
  },
  {
   "cell_type": "code",
   "execution_count": null,
   "metadata": {},
   "outputs": [],
   "source": [
    "from enum import Enum\n",
    "class Categoria(Enum):\n",
    "    COCINA = 1\n",
    "    SALON = 2\n",
    "    TERRAZA = 3\n",
    "\n",
    "class Color(Enum):\n",
    "    BLANCO = 1\n",
    "    NEGRO = 2\n",
    "    MARRON = 3\n",
    "\n",
    "class Producto():\n",
    "    def __init__(self, id, nombre: str, precio: float, categoria: Categoria, coste: float, color: Color):\n",
    "        self.id = id\n",
    "        self.nombre = nombre\n",
    "        self.precio = precio\n",
    "        self.categoria = categoria\n",
    "        self.precio = precio\n",
    "        self.coste = coste\n",
    "        self.color = color"
   ]
  },
  {
   "cell_type": "code",
   "execution_count": null,
   "metadata": {},
   "outputs": [],
   "source": [
    "class Armario():\n",
    "    def __init__(self, puertas: int, altura: float, ancho: float):\n",
    "        "
   ]
  }
 ],
 "metadata": {
  "kernelspec": {
   "display_name": "Python 3.9.12 ('base')",
   "language": "python",
   "name": "python3"
  },
  "language_info": {
   "name": "python",
   "version": "3.9.12"
  },
  "orig_nbformat": 4,
  "vscode": {
   "interpreter": {
    "hash": "1e0c7b01d1ee234480fbb8f2f1344476b23de1c8cd4974b908bf5055148036ec"
   }
  }
 },
 "nbformat": 4,
 "nbformat_minor": 2
}
